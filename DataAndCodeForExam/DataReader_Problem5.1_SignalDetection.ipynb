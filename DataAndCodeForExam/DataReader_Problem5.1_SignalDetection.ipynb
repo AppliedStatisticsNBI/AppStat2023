{
 "cells": [
  {
   "cell_type": "markdown",
   "metadata": {},
   "source": [
    "### Script for reading data for Problem 5.1 (data_SignalDetection.csv) in Applied Statistics 2023-24 exam:\n",
    "\n",
    "The data file contains a header and 120000 entries in five columns:\n",
    " * Entry number (i.e. index)\n",
    " * Phase (P)\n",
    " * Resonance (R)\n",
    " * Frequency (nu)\n",
    " * Entry type (1: Signal in Control Sample, 0: Background in Control Sample, -1: Real data sample)\n",
    "\n",
    "The script was distributed along with the exam and the data file itself on the 18th of January 2024.\n",
    "\n",
    "####  Author:\n",
    "- Troels Petersen (Niels Bohr Institute, petersen@nbi.dk)\n",
    "\n",
    "####  Date:   \n",
    " - 17th of January 2024 (latest version)"
   ]
  },
  {
   "cell_type": "code",
   "execution_count": null,
   "metadata": {},
   "outputs": [],
   "source": [
    "import pandas as pd"
   ]
  },
  {
   "cell_type": "code",
   "execution_count": null,
   "metadata": {},
   "outputs": [],
   "source": [
    "dataframe = pd.read_csv('data_SignalDetection.csv', header=0)\n",
    "index, P, R, freq, type = dataframe.values.T\n",
    "dataframe"
   ]
  },
  {
   "cell_type": "markdown",
   "metadata": {},
   "source": [
    "Print the first 10 entries to check the content of the file:"
   ]
  },
  {
   "cell_type": "code",
   "execution_count": null,
   "metadata": {},
   "outputs": [],
   "source": [
    "for i in range(10):\n",
    "    print(f\"  index: {int(index[i]):4d}   P = {P[i]:5.2f}   R = {R[i]:5.2f}   freq = {freq[i]:5.3f}   type: {int(type[i]):2d}\")"
   ]
  }
 ],
 "metadata": {
  "executable": "/usr/bin/env python",
  "kernelspec": {
   "display_name": "Python 3 (ipykernel)",
   "language": "python",
   "name": "python3"
  },
  "language_info": {
   "codemirror_mode": {
    "name": "ipython",
    "version": 3
   },
   "file_extension": ".py",
   "mimetype": "text/x-python",
   "name": "python",
   "nbconvert_exporter": "python",
   "pygments_lexer": "ipython3",
   "version": "3.10.13"
  },
  "main_language": "python"
 },
 "nbformat": 4,
 "nbformat_minor": 4
}
