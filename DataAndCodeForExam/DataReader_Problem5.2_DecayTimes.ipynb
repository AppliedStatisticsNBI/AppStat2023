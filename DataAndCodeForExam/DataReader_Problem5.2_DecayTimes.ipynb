{
 "cells": [
  {
   "cell_type": "markdown",
   "metadata": {},
   "source": [
    "### Script for reading data for Problem 5.2 (data_DecayTimes.csv) in Applied Statistics 2023-24 exam:\n",
    "\n",
    "The data file contains 1000 entries with measured decay times in seconds.\n",
    "\n",
    "The script was distributed along with the exam and the data file itself on the 18th of January 2024.\n",
    "\n",
    "####  Author:\n",
    "- Troels Petersen (Niels Bohr Institute, petersen@nbi.dk)\n",
    "\n",
    "####  Date:   \n",
    " - 17th of January 2024 (latest version)"
   ]
  },
  {
   "cell_type": "code",
   "execution_count": null,
   "metadata": {},
   "outputs": [],
   "source": [
    "import pandas as pd"
   ]
  },
  {
   "cell_type": "code",
   "execution_count": null,
   "metadata": {},
   "outputs": [],
   "source": [
    "dataframe = pd.read_csv('data_DecayTimes.csv', header=None)\n",
    "times = dataframe.values.T\n",
    "dataframe"
   ]
  }
 ],
 "metadata": {
  "executable": "/usr/bin/env python",
  "kernelspec": {
   "display_name": "Python 3 (ipykernel)",
   "language": "python",
   "name": "python3"
  },
  "language_info": {
   "codemirror_mode": {
    "name": "ipython",
    "version": 3
   },
   "file_extension": ".py",
   "mimetype": "text/x-python",
   "name": "python",
   "nbconvert_exporter": "python",
   "pygments_lexer": "ipython3",
   "version": "3.10.13"
  },
  "main_language": "python"
 },
 "nbformat": 4,
 "nbformat_minor": 4
}
