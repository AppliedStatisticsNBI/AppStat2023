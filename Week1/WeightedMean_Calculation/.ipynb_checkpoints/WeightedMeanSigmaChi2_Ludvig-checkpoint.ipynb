{
 "cells": [
  {
   "cell_type": "markdown",
   "metadata": {},
   "source": [
    "# Calculating Weighted Mean, Standard Deviation, $\\chi^2$ and $\\chi^2$-probability.\n",
    "\n",
    "Very small notebook testing if your calculation of the weighted mean, the standard deviation, the $\\chi^2$-value and the $\\chi^2$-probability are correct. We use as example five measurements of a distance (too a hook!) with uncertainty. You should insert your own code in the cells below. If you can run the entire notebook without any (Assertion)errors, your code has passed!\n",
    "\n",
    "***\n",
    "\n",
    "### Author(s): \n",
    "- Troels C. Petersen (Niels Bohr Institute)\n",
    "\n",
    "### Date:    \n",
    "- 16-11-2023 (latest update)"
   ]
  },
  {
   "cell_type": "code",
   "execution_count": 1,
   "metadata": {
    "tags": []
   },
   "outputs": [],
   "source": [
    "import numpy as np\n",
    "from scipy import stats"
   ]
  },
  {
   "cell_type": "markdown",
   "metadata": {},
   "source": [
    "Below we define the data for the measurements of the heights of the hook (in mm, though that is irrelavant here) and their estimated uncertainties:"
   ]
  },
  {
   "cell_type": "code",
   "execution_count": 2,
   "metadata": {
    "lines_to_next_cell": 2,
    "tags": []
   },
   "outputs": [],
   "source": [
    "dhook = np.array([17.8, 18.1, 17.7, 17.7 ])\n",
    "err_dhook = np.array([0.5, 0.3, 0.5, 0.2])"
   ]
  },
  {
   "cell_type": "markdown",
   "metadata": {},
   "source": [
    "Testing the weighted mean calculation. This is where you should start pasting your code! "
   ]
  },
  {
   "cell_type": "code",
   "execution_count": 5,
   "metadata": {
    "tags": []
   },
   "outputs": [
    {
     "name": "stdout",
     "output_type": "stream",
     "text": [
      "17.809823677581864\n"
     ]
    }
   ],
   "source": [
    "# Insert own code here to calculate the weighted mean, mean_weighted\n",
    "mean_weighted = np.sum(dhook / err_dhook**2, axis=0) / np.sum(1 / err_dhook**2, axis=0)\n",
    "\n",
    "print(mean_weighted)\n",
    "assert np.isclose(mean_weighted, 17.80982367758186)"
   ]
  },
  {
   "cell_type": "markdown",
   "metadata": {},
   "source": [
    "Testing the weighted error:"
   ]
  },
  {
   "cell_type": "code",
   "execution_count": 7,
   "metadata": {
    "tags": []
   },
   "outputs": [
    {
     "name": "stdout",
     "output_type": "stream",
     "text": [
      "0.1505656839685487\n"
     ]
    }
   ],
   "source": [
    "# Insert own code here to calculate the weighted error, err_weighted\n",
    "err_weighted = np.sqrt(1 / np.sum(1 / err_dhook**2, axis=0))\n",
    "\n",
    "print(err_weighted)\n",
    "assert np.isclose(err_weighted, 0.15056568396854866)"
   ]
  },
  {
   "cell_type": "markdown",
   "metadata": {},
   "source": [
    "Testing the $\\chi^2$-value:"
   ]
  },
  {
   "cell_type": "code",
   "execution_count": 10,
   "metadata": {
    "tags": []
   },
   "outputs": [
    {
     "name": "stdout",
     "output_type": "stream",
     "text": [
      "1.2857430730478727\n"
     ]
    }
   ],
   "source": [
    "# Insert own code here to calculate the chi2 value, chi2\n",
    "chi2 = np.sum(((dhook - mean_weighted) / err_dhook)**2, axis = 0)\n",
    "\n",
    "print(chi2)\n",
    "assert np.isclose(chi2, 1.2857430730478727)"
   ]
  },
  {
   "cell_type": "markdown",
   "metadata": {},
   "source": [
    "Testing the $\\chi^2$-probability:"
   ]
  },
  {
   "cell_type": "code",
   "execution_count": null,
   "metadata": {},
   "outputs": [],
   "source": []
  },
  {
   "cell_type": "code",
   "execution_count": 14,
   "metadata": {
    "lines_to_next_cell": 2,
    "tags": []
   },
   "outputs": [
    {
     "name": "stdout",
     "output_type": "stream",
     "text": [
      "0.7325212770446814\n"
     ]
    }
   ],
   "source": [
    "# Insert own code here to calculate the chi2 probability, chi2_prob\n",
    "chi2_prob = stats.chi2.sf(chi2, 3)\n",
    "\n",
    "\n",
    "\n",
    "print(chi2_prob)\n",
    "assert np.isclose(chi2_prob, 0.7325212770446814)"
   ]
  },
  {
   "cell_type": "markdown",
   "metadata": {},
   "source": [
    "# Learning points:\n",
    "\n",
    "You should:\n",
    "1. Know the difference between an unweighted and a weighted mean.\n",
    "2. Know that a weighted mean is like a Chi2 fit with a single parameter (the mean!).\n",
    "3. Be able to test (with Chi2 and p-value) if input values of weighted mean are consistent.   "
   ]
  }
 ],
 "metadata": {
  "executable": "/usr/bin/env python2",
  "kernelspec": {
   "display_name": "Python 3 (ipykernel)",
   "language": "python",
   "name": "python3"
  },
  "language_info": {
   "codemirror_mode": {
    "name": "ipython",
    "version": 3
   },
   "file_extension": ".py",
   "mimetype": "text/x-python",
   "name": "python",
   "nbconvert_exporter": "python",
   "pygments_lexer": "ipython3",
   "version": "3.11.5"
  },
  "main_language": "python"
 },
 "nbformat": 4,
 "nbformat_minor": 4
}
