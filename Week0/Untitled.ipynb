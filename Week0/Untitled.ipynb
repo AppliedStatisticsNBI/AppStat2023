{
 "cells": [
  {
   "cell_type": "code",
   "execution_count": 9,
   "id": "0082c091-9cc7-4ca7-bc52-a415cae5e0e0",
   "metadata": {
    "tags": []
   },
   "outputs": [
    {
     "name": "stdout",
     "output_type": "stream",
     "text": [
      "0.04652581580710802\n"
     ]
    }
   ],
   "source": [
    "from scipy.stats import norm\n",
    "\n",
    "sigma_value = 3.5  # Sigma value\n",
    "\n",
    "# Probability of being within +/- sigma value\n",
    "within_probability = norm.cdf(sigma_value) - norm.cdf(-sigma_value)\n",
    "\n",
    "# Probability of being outside +/- sigma value\n",
    "outside_probability = 1 - within_probability\n",
    "\n",
    "print(outside_probability*100)"
   ]
  },
  {
   "cell_type": "code",
   "execution_count": null,
   "id": "d2264333-4ed6-4846-b173-10e30ad1fe8e",
   "metadata": {},
   "outputs": [],
   "source": []
  }
 ],
 "metadata": {
  "kernelspec": {
   "display_name": "Python 3 (ipykernel)",
   "language": "python",
   "name": "python3"
  },
  "language_info": {
   "codemirror_mode": {
    "name": "ipython",
    "version": 3
   },
   "file_extension": ".py",
   "mimetype": "text/x-python",
   "name": "python",
   "nbconvert_exporter": "python",
   "pygments_lexer": "ipython3",
   "version": "3.11.5"
  }
 },
 "nbformat": 4,
 "nbformat_minor": 5
}
