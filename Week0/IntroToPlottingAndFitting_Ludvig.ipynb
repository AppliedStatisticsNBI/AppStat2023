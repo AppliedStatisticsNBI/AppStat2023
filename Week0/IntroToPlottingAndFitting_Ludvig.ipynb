{
 "cells": [
  {
   "cell_type": "markdown",
   "metadata": {},
   "source": [
    "# Introduction to Plotting and Fitting\n",
    "\n",
    "This is an introduction on how to use the Python packages iminuit to do fitting, and matplotlib to plot the results nicely.\n",
    "\n",
    "Two types of fits are considered:<br>\n",
    "* Fit to histogram (values put into histogram as counts in each bin)\n",
    "* Fit to graph (list of x and y values with uncertainties)\n",
    "\n",
    "The difference is small, but we nevertheless include both for illustration.\n",
    "\n",
    "***\n",
    "\n",
    "### Authors: \n",
    "- Troels C. Petersen (Niels Bohr Institute)\n",
    "\n",
    "### Date:    \n",
    "- 01-11-2023 (latest update)"
   ]
  },
  {
   "cell_type": "code",
   "execution_count": 1,
   "metadata": {},
   "outputs": [],
   "source": [
    "import numpy as np                                     # Matlab like syntax for linear algebra and functions\n",
    "import matplotlib.pyplot as plt                        # Plots and figures like you know them from Matlab\n",
    "import seaborn as sns                                  # Make the plots nicer to look at\n",
    "from iminuit import Minuit                             # The actual fitting tool, better than scipy's\n",
    "import sys                                             # Module to see files and folders in directories\n",
    "from scipy import stats"
   ]
  },
  {
   "cell_type": "markdown",
   "metadata": {},
   "source": [
    "The above block imports packages written by others. But you may want to include your own code from some external file, which holds your custom/favorite functions. This is done as follows, and refers to the Python file called `ExternalFunctions.py` located in the Folder `External_Functions` right next to `Week0`, `Week1` etc:"
   ]
  },
  {
   "cell_type": "code",
   "execution_count": 2,
   "metadata": {},
   "outputs": [],
   "source": [
    "sys.path.append('../External_Functions')\n",
    "from ExternalFunctions import BinnedLH, Chi2Regression\n",
    "from ExternalFunctions import nice_string_output, add_text_to_ax  # Useful functions to print fit results on figure\n",
    "\n",
    "# In case you want to load function from a jupyter notebook from the current working directory, you can use the function below:\n",
    "#   from ipynb.fs.full.ExternalFunctions import nice_string_output, add_text_to_ax   # Useful functions to print fit results on figure"
   ]
  },
  {
   "cell_type": "markdown",
   "metadata": {},
   "source": [
    "Here we set the random seed for the random number generator (RNG). This ensures reproducability (the same results every time the notebook is restarted). "
   ]
  },
  {
   "cell_type": "code",
   "execution_count": 3,
   "metadata": {},
   "outputs": [],
   "source": [
    "r = np.random # Random generator\n",
    "r.seed(42)    # Set a random seed (but a fixed one)"
   ]
  },
  {
   "cell_type": "markdown",
   "metadata": {},
   "source": [
    "We then set some plotting settings (where can for example take advantage of Seaborn's plotting capabilities):"
   ]
  },
  {
   "cell_type": "code",
   "execution_count": 4,
   "metadata": {},
   "outputs": [],
   "source": [
    "sns.set()\n",
    "sns.set_context(\"paper\", font_scale=1.4)\n",
    "sns.set_style(\"ticks\")"
   ]
  },
  {
   "cell_type": "markdown",
   "metadata": {},
   "source": [
    "Finally we define some global constants that we are going to use throughout the notebook:"
   ]
  },
  {
   "cell_type": "code",
   "execution_count": 5,
   "metadata": {
    "lines_to_next_cell": 2
   },
   "outputs": [],
   "source": [
    "save_plots = False # For now, don't save plots (once you trust your code, switch on)\n",
    "verbose = True     # For now, print a lot of output (once you trust your code, switch off)"
   ]
  },
  {
   "cell_type": "markdown",
   "metadata": {},
   "source": [
    "## Create the data:\n",
    "\n",
    "We create some normally distributed data. First we define the number of random points to produce:"
   ]
  },
  {
   "cell_type": "code",
   "execution_count": 6,
   "metadata": {},
   "outputs": [],
   "source": [
    "Npoints = 10000     # Number of random points produced"
   ]
  },
  {
   "cell_type": "markdown",
   "metadata": {},
   "source": [
    "We then fill the created arrays with random numbers:"
   ]
  },
  {
   "cell_type": "code",
   "execution_count": 7,
   "metadata": {
    "lines_to_next_cell": 2
   },
   "outputs": [
    {
     "name": "stdout",
     "output_type": "stream",
     "text": [
      "[-0.10262868 -0.61061144  0.01815083 ... -1.06425338 -0.10338754\n",
      "  0.01551076]\n"
     ]
    }
   ],
   "source": [
    "# Generate random numbers according to two Gaussians:\n",
    "x_all = r.normal(loc=-0.5, scale=0.8, size=Npoints)\n",
    "y_all = r.normal(0.5, 1.3, Npoints)\n",
    "\n",
    "if (verbose) :\n",
    "    print(x_all)"
   ]
  },
  {
   "cell_type": "markdown",
   "metadata": {},
   "source": [
    "Where we have shown that you can use keywords (e.g. `loc=-0.5` to indicate the location of the normal distributuion) in the functions to make it easier to read. Available keywords can be seen running `?r.normal()` in a cell."
   ]
  },
  {
   "cell_type": "code",
   "execution_count": 8,
   "metadata": {},
   "outputs": [],
   "source": [
    "# ?r.normal() # comment this line in"
   ]
  },
  {
   "cell_type": "markdown",
   "metadata": {},
   "source": [
    "## Histogram of data (1D):\n",
    "\n",
    "In the following section, we want to produce two histograms (of normal distributions in this case), and plot them together in a single plot.  \n",
    "This can be done in two ways!  \n",
    "\n",
    "The first method is very MatLab-like, and probably also the simplest, but in the longer run has a few drawbacks, while the second method is more pythonic (i.e. object oriented, OO), and allows for returning to these plots later in the code.\n",
    "\n",
    "First we define the number of bins for the histograms to use along with the minimum and maximum values of x:"
   ]
  },
  {
   "cell_type": "code",
   "execution_count": 9,
   "metadata": {
    "lines_to_next_cell": 2
   },
   "outputs": [],
   "source": [
    "# General input (for both methods):\n",
    "Nbins = 100\n",
    "xmin, xmax = -5, 5"
   ]
  },
  {
   "cell_type": "markdown",
   "metadata": {},
   "source": [
    "### Note on histograms and binning (IMPORTANT!):\n",
    "It is very important to specify - in a well thought manner - the range and binning to use. Many problems could have been avoided by a few seconds of consideration from the beginning. Some hints are:<br>\n",
    "1) Choose a range that contains the (relevant) data with round numbers (e.g. 40-100, not 47-98).\n",
    "   Omit (or make an overflow bin of) long tails, if they are not essential.<br>\n",
    "2) Choose a number of bins, which gives a \"round\" bin width,\n",
    "   e.g. with a range 40-100, choose 60 bins (bin width = 0.1) instead of 50 (bin width = 0.12).<br>\n",
    "3) If the input in integer (or otherwise discrete), choose the binning accordingly,\n",
    "   and put values in the middle of the bin, e.g. a histogram for dice outcome would be 0.5-6.5 with 6 bins.<br>\n",
    "4) There are many ways to calculate a reasonable number of bins (we'll get to that).\n",
    "   A rough rule of thumb is to have $\\sqrt{N}$ bins, given $N$ entries in a histogram.<br>"
   ]
  },
  {
   "cell_type": "markdown",
   "metadata": {},
   "source": [
    "#### Method 0 (MatLab-like)\n",
    "\n",
    "The Matlab-like way of making plots is to simply to call `plt.plotmethod_name_here(keywords_here)`. Below we first create an empty figure, then fill it with two histograms and lastly we set the text properties (labels, title and legend):"
   ]
  },
  {
   "cell_type": "code",
   "execution_count": 12,
   "metadata": {},
   "outputs": [
    {
     "data": {
      "image/png": "[encoded data removed]",
      "text/plain": [
       "<Figure size 1200x600 with 1 Axes>"
      ]
     },
     "metadata": {},
     "output_type": "display_data"
    }
   ],
   "source": [
    "# Create just a single figure and axes\n",
    "plt.figure(figsize=(12, 6)) # figsize is in inches\n",
    "\n",
    "# Create a histogram with Nbin amount of bins in the range from xmin to xmax.\n",
    "# NOTE: It is important to choose (i.e. control) binning and range.\n",
    "# Choose a step-type histogram with a line width of 2 in the color and label chosen.\n",
    "plt.hist(x_all, bins=Nbins, range=(xmin, xmax), histtype='step', linewidth=2, color='red', label='Gaussian ($\\mu$ = -0.5)')\n",
    "plt.hist(y_all, bins=Nbins, range=(xmin, xmax), histtype='step', linewidth=2, color='blue', label='Gaussian ($\\mu$ = +0.5)')\n",
    "\n",
    "plt.xlabel(\"Random numbers\") # the label of the x axis\n",
    "plt.ylabel(\"Frequency\") # the label of the y axis\n",
    "plt.title(\"Distribution of Gaussian numbers\") # the title of the plot\n",
    "plt.legend(loc='best'); # could also be # loc = 'upper right' e.g."
   ]
  },
  {
   "cell_type": "markdown",
   "metadata": {},
   "source": [
    "We end the last line with a semicolon (`;`) above to suppress the output since we only want to see the actual figure and not anything else.\n",
    "\n",
    "#### Method 1 (Python-like)\n",
    "\n",
    "In this second method we start out by creating a figure and axis handle that contain everything we need about the plot. Each figure can contain several axes (subplots). This way we can fill each axis - e.g. with histograms of the data: "
   ]
  },
  {
   "cell_type": "code",
   "execution_count": 13,
   "metadata": {},
   "outputs": [
    {
     "data": {
      "image/png": "[encoded data removed]",
      "text/plain": [
       "<Figure size 1200x600 with 1 Axes>"
      ]
     },
     "metadata": {},
     "output_type": "display_data"
    }
   ],
   "source": [
    "# Create just a single figure and axes\n",
    "fig, ax = plt.subplots(figsize=(12, 6))  # Figsize is in inches (sigh!)\n",
    "\n",
    "# Create a histogram and give it a name.\n",
    "# It has with Nbin amount of bins in the range from xmin to xmax.\n",
    "# Choose a step type histogram with a line width of 2 in the color and label chosen.\n",
    "hist1 = ax.hist(x_all, bins=Nbins, range=(xmin, xmax), histtype='step', linewidth=2, color='red', label='Gaussian ($\\mu$ = -0.5)')\n",
    "hist2 = ax.hist(y_all, bins=Nbins, range=(xmin, xmax), histtype='step', linewidth=2, color='blue', label='Gaussian ($\\mu$ = +0.5)')\n",
    "\n",
    "# Set the figure texts; xlabel, ylabel and title.\n",
    "ax.set(xlabel=\"Random numbers\", # the label of the y axis\n",
    "       ylabel=\"Frequency\",  # the label of the y axis\n",
    "       title=\"Distribution of Gaussian numbers\") # the title of the plot\n",
    "ax.legend(loc='best'); # could also be # loc = 'upper right' e.g."
   ]
  },
  {
   "cell_type": "markdown",
   "metadata": {},
   "source": [
    "As can be seen, the two figures are exactly the same. Sometimes it is quicker to play around with the `plt`-method of plotting in the beginning of a plot, but for more advanced plots the pythonic/OO-method (the one with `ax`) is recommended. \n",
    "\n",
    "## Fit to the data / histogram (1D):\n",
    "\n",
    "Having created the data, we also want to be able to fit the distributions. We first define the function, a Gaussian PDF in this case:"
   ]
  },
  {
   "cell_type": "code",
   "execution_count": 14,
   "metadata": {},
   "outputs": [],
   "source": [
    "# Define your PDF:\n",
    "def gauss_pdf(x, mu, sigma):\n",
    "    \"\"\"Normalized Gaussian\"\"\"\n",
    "    return 1 / np.sqrt(2 * np.pi) / sigma * np.exp(-0.5 * (x - mu)**2 / sigma**2)"
   ]
  },
  {
   "cell_type": "code",
   "execution_count": 15,
   "metadata": {},
   "outputs": [],
   "source": [
    "# Define your actual fitting function, which is NOT normalised, but made to fit/model a distribution in a histogram:\n",
    "def gauss_extended(x, N, mu, sigma) :\n",
    "    \"\"\"Non-normalized (extended) Gaussian\"\"\"\n",
    "    return N * gauss_pdf(x, mu, sigma)"
   ]
  },
  {
   "cell_type": "markdown",
   "metadata": {},
   "source": [
    "Having defined our fitting function, we also want to make a *binned likelihood* fit of `gauss_extended` to the data `x_all`. What a binned likelihood-fit (and all the other types of fits in this section) is exactly you'll learn more about during the course. It is important to use the same bins and bounds as the original histogram. In this case we are also treating the number of events/random numbers as being a fit variable which makes this a so-called *extended fit* (more on that later as well).   \n",
    "***\n",
    "We initialize our fitting object, `binned_likelihood`, by using the `BinnedLH` function from our external functions. This first takes the function to fit as input, then the input data and finally other fitting options such as the number of bins, the bounds and whether or not it is an extended fit):"
   ]
  },
  {
   "cell_type": "code",
   "execution_count": 16,
   "metadata": {},
   "outputs": [
    {
     "name": "stderr",
     "output_type": "stream",
     "text": [
      "/Users/ludvigwitschel/Desktop/Physics Bachelor/Applied Statistics/AppStat Repo/Week0/../External_Functions/ExternalFunctions.py:247: VisibleDeprecationWarning: make_func_code is deprecated: Use of ``func_code`` attribute to declare parameters is deprecated. Use ``_parameters`` instead, which is a dict of parameter names to limits.\n",
      "  self.func_code = make_func_code(describe(self.f)[1:])\n"
     ]
    }
   ],
   "source": [
    "binned_likelihood = BinnedLH(gauss_extended, \n",
    "                             x_all,\n",
    "                             bins=Nbins, \n",
    "                             bound=(xmin, xmax),\n",
    "                             extended=True)\n",
    "# extended=True: this means that we let the number of events N be a variable as well\n",
    "# extended=False: this means that we have a fixed number of events, N."
   ]
  },
  {
   "cell_type": "markdown",
   "metadata": {},
   "source": [
    "Now we are ready to fit `binned_likelihood`. This is done using __[iMinuit](https://iminuit.readthedocs.io/en/latest/)__ which is a Python-wrapper for the wonderful minimization tool Minuit developed by CERN. We can help and constrain the fit in several ways. Minuit allows one to specify the (crucial!) initial guess/estimate of the parameters' values, the range allowed for the values and has the ability to fix certain parameters' values to constant values. Let's start with a basic example:"
   ]
  },
  {
   "cell_type": "code",
   "execution_count": 18,
   "metadata": {},
   "outputs": [],
   "source": [
    "Minuit.print_level = 1      # Printing result of the fit\n",
    "\n",
    "minuit = Minuit(binned_likelihood, mu=-1.0, sigma=1.0, N=1000)      # Notice that initial values are not perfect, but ballpark OK\n",
    "minuit.errordef = Minuit.LIKELIHOOD     # == 0.5  (we will get to why this is so!)"
   ]
  },
  {
   "cell_type": "markdown",
   "metadata": {},
   "source": [
    "Here we tell Minuit that we want to minimize the `binned_likelihood` object, tells it the initial values for `mu`, `sigma` and `N` and finally disables some automatic warnings that Minuit shows (which are unimportant in most cases). In the text below here we show how to implement the ranges of the parameters and how to fix variables:\n",
    "\n",
    "``` \n",
    "minuit = Minuit(binned_likelihood, mu=-1, sigma=1, N=1000, pedantic=False, \n",
    "                limit_sigma = (0,10)  # set the range for sigma to be between 0 and 10\n",
    "                fix_N=True # fix the value of N to its initial value (1000)\n",
    "                )\n",
    "```\n",
    "\n",
    "We now let Minuit actually run the fitting routine:"
   ]
  },
  {
   "cell_type": "code",
   "execution_count": 19,
   "metadata": {
    "lines_to_next_cell": 2
   },
   "outputs": [
    {
     "name": "stderr",
     "output_type": "stream",
     "text": [
      "/Users/ludvigwitschel/Desktop/Physics Bachelor/Applied Statistics/AppStat Repo/Week0/../External_Functions/ExternalFunctions.py:273: UserWarning: x is really small return 0\n",
      "  warnings.warn('x is really small return 0')\n"
     ]
    },
    {
     "data": {
      "text/html": [
       "<table>\n",
       "    <tr>\n",
       "        <th colspan=\"2\" style=\"text-align:center\" title=\"Minimizer\"> Migrad </th>\n",
       "    </tr>\n",
       "    <tr>\n",
       "        <td style=\"text-align:left\" title=\"Minimum value of function\"> FCN = 28.07 </td>\n",
       "        <td style=\"text-align:center\" title=\"Total number of function and (optional) gradient evaluations\"> Nfcn = 106 </td>\n",
       "    </tr>\n",
       "    <tr>\n",
       "        <td style=\"text-align:left\" title=\"Estimated distance to minimum and goal\"> EDM = 7.92e-07 (Goal: 0.0001) </td>\n",
       "        <td style=\"text-align:center\" title=\"Total run time of algorithms\"> time = 0.3 sec </td>\n",
       "    </tr>\n",
       "    <tr>\n",
       "        <td style=\"text-align:center;background-color:#92CCA6;color:black\"> Valid Minimum </td>\n",
       "        <td style=\"text-align:center;background-color:#92CCA6;color:black\"> Below EDM threshold (goal x 10) </td>\n",
       "    </tr>\n",
       "    <tr>\n",
       "        <td style=\"text-align:center;background-color:#92CCA6;color:black\"> No parameters at limit </td>\n",
       "        <td style=\"text-align:center;background-color:#92CCA6;color:black\"> Below call limit </td>\n",
       "    </tr>\n",
       "    <tr>\n",
       "        <td style=\"text-align:center;background-color:#92CCA6;color:black\"> Hesse ok </td>\n",
       "        <td style=\"text-align:center;background-color:#92CCA6;color:black\"> Covariance accurate </td>\n",
       "    </tr>\n",
       "</table><table>\n",
       "    <tr>\n",
       "        <td></td>\n",
       "        <th title=\"Variable name\"> Name </th>\n",
       "        <th title=\"Value of parameter\"> Value </th>\n",
       "        <th title=\"Hesse error\"> Hesse Error </th>\n",
       "        <th title=\"Minos lower error\"> Minos Error- </th>\n",
       "        <th title=\"Minos upper error\"> Minos Error+ </th>\n",
       "        <th title=\"Lower limit of the parameter\"> Limit- </th>\n",
       "        <th title=\"Upper limit of the parameter\"> Limit+ </th>\n",
       "        <th title=\"Is the parameter fixed in the fit\"> Fixed </th>\n",
       "    </tr>\n",
       "    <tr>\n",
       "        <th> 0 </th>\n",
       "        <td> N </td>\n",
       "        <td> 10.0e3 </td>\n",
       "        <td> 0.1e3 </td>\n",
       "        <td>  </td>\n",
       "        <td>  </td>\n",
       "        <td>  </td>\n",
       "        <td>  </td>\n",
       "        <td>  </td>\n",
       "    </tr>\n",
       "    <tr>\n",
       "        <th> 1 </th>\n",
       "        <td> mu </td>\n",
       "        <td> -0.502 </td>\n",
       "        <td> 0.008 </td>\n",
       "        <td>  </td>\n",
       "        <td>  </td>\n",
       "        <td>  </td>\n",
       "        <td>  </td>\n",
       "        <td>  </td>\n",
       "    </tr>\n",
       "    <tr>\n",
       "        <th> 2 </th>\n",
       "        <td> sigma </td>\n",
       "        <td> 0.802 </td>\n",
       "        <td> 0.006 </td>\n",
       "        <td>  </td>\n",
       "        <td>  </td>\n",
       "        <td>  </td>\n",
       "        <td>  </td>\n",
       "        <td>  </td>\n",
       "    </tr>\n",
       "</table><table>\n",
       "    <tr>\n",
       "        <td></td>\n",
       "        <th> N </th>\n",
       "        <th> mu </th>\n",
       "        <th> sigma </th>\n",
       "    </tr>\n",
       "    <tr>\n",
       "        <th> N </th>\n",
       "        <td> 1e+04 </td>\n",
       "        <td style=\"background-color:rgb(250,250,250);color:black\"> -0 </td>\n",
       "        <td style=\"background-color:rgb(250,250,250);color:black\"> 0 </td>\n",
       "    </tr>\n",
       "    <tr>\n",
       "        <th> mu </th>\n",
       "        <td style=\"background-color:rgb(250,250,250);color:black\"> -0 </td>\n",
       "        <td> 6.45e-05 </td>\n",
       "        <td style=\"background-color:rgb(250,250,250);color:black\"> 0 </td>\n",
       "    </tr>\n",
       "    <tr>\n",
       "        <th> sigma </th>\n",
       "        <td style=\"background-color:rgb(250,250,250);color:black\"> 0 </td>\n",
       "        <td style=\"background-color:rgb(250,250,250);color:black\"> 0 </td>\n",
       "        <td> 3.23e-05 </td>\n",
       "    </tr>\n",
       "</table>"
      ],
      "text/plain": [
       "┌─────────────────────────────────────────────────────────────────────────┐\n",
       "│                                Migrad                                   │\n",
       "├──────────────────────────────────┬──────────────────────────────────────┤\n",
       "│ FCN = 28.07                      │              Nfcn = 106              │\n",
       "│ EDM = 7.92e-07 (Goal: 0.0001)    │            time = 0.3 sec            │\n",
       "├──────────────────────────────────┼──────────────────────────────────────┤\n",
       "│          Valid Minimum           │   Below EDM threshold (goal x 10)    │\n",
       "├──────────────────────────────────┼──────────────────────────────────────┤\n",
       "│      No parameters at limit      │           Below call limit           │\n",
       "├──────────────────────────────────┼──────────────────────────────────────┤\n",
       "│             Hesse ok             │         Covariance accurate          │\n",
       "└──────────────────────────────────┴──────────────────────────────────────┘\n",
       "┌───┬───────┬───────────┬───────────┬────────────┬────────────┬─────────┬─────────┬───────┐\n",
       "│   │ Name  │   Value   │ Hesse Err │ Minos Err- │ Minos Err+ │ Limit-  │ Limit+  │ Fixed │\n",
       "├───┼───────┼───────────┼───────────┼────────────┼────────────┼─────────┼─────────┼───────┤\n",
       "│ 0 │ N     │  10.0e3   │   0.1e3   │            │            │         │         │       │\n",
       "│ 1 │ mu    │  -0.502   │   0.008   │            │            │         │         │       │\n",
       "│ 2 │ sigma │   0.802   │   0.006   │            │            │         │         │       │\n",
       "└───┴───────┴───────────┴───────────┴────────────┴────────────┴─────────┴─────────┴───────┘\n",
       "┌───────┬────────────────────────────┐\n",
       "│       │        N       mu    sigma │\n",
       "├───────┼────────────────────────────┤\n",
       "│     N │    1e+04       -0        0 │\n",
       "│    mu │       -0 6.45e-05        0 │\n",
       "│ sigma │        0        0 3.23e-05 │\n",
       "└───────┴────────────────────────────┘"
      ]
     },
     "execution_count": 19,
     "metadata": {},
     "output_type": "execute_result"
    }
   ],
   "source": [
    "minuit.migrad()    # Perform the actual fit"
   ]
  },
  {
   "cell_type": "markdown",
   "metadata": {},
   "source": [
    "When run in a notebook, we get a very nice overview of the fit results.  \n",
    "\n",
    "1. The first table shows the likelihood/Chi2 function value (around 20ish), the total number of calls (around 100ish) during the fit along with some other metrics indicating the distance to the (estimated) global minimum.   \n",
    "2. The second table shows the validity of the fit (in some versions indicated by all the green squares). It is always important to check that the fit converged!  \n",
    "3. The table below shows the fitted parameters' values along with their uncertainties. These uncertainties are super important (!) and the primary reason why we are not using the minimizer found in scipy (because scipy does not provide uncertainty bounds on general minimization estimates**).\n",
    "\n",
    "**Well, a subject of discussion!\n",
    "\n",
    "Below we show how to extract the values into variables which we can use further on and print the values:"
   ]
  },
  {
   "cell_type": "code",
   "execution_count": 20,
   "metadata": {},
   "outputs": [
    {
     "name": "stdout",
     "output_type": "stream",
     "text": [
      "  Fit value: N = 10000.06432 +/- 100.00064\n",
      "  Fit value: mu = -0.50167 +/- 0.00803\n",
      "  Fit value: sigma = 0.80229 +/- 0.00568\n",
      "  LLH value =   28.1\n"
     ]
    }
   ],
   "source": [
    "fit_N, fit_mu, fit_sigma = minuit.values[:]     # The fitted values of the parameters\n",
    "for name in minuit.parameters:\n",
    "    value, error = minuit.values[name], minuit.errors[name]\n",
    "    print(f\"  Fit value: {name} = {value:.5f} +/- {error:.5f}\")\n",
    "    \n",
    "LLH_value = minuit.fval                         # The LogLikeliHood (LLH) value\n",
    "print(f\"  LLH value = {LLH_value:6.1f}\")"
   ]
  },
  {
   "cell_type": "markdown",
   "metadata": {},
   "source": [
    "As you can see, the fit very nicely estimates the values of the distribution. We will discuss results like these much more in the course.\n",
    "\n",
    "Let's see if the fitted values actually yield a function that matches the distribution. This is always an important check to make as our eyes are extremely good at estimating the goodness of a fit (compared to just seeing some numbers). This also serves an extra check of the code, since sometimes you've made an error in the code which suddenly becomes very visible when plotted.\n",
    "\n",
    "Since we are dealing with binned data, we have to take the binwidth into account. This is calculated as: $\\text{binwidth} = \\frac{\\Delta x}{\\text{Nbins}}$. We then multiply the fitted (y) values with the binwidth to get matching scales in the plot and plot the fit in the the `ax` object from the figure above:"
   ]
  },
  {
   "cell_type": "code",
   "execution_count": 21,
   "metadata": {},
   "outputs": [],
   "source": [
    "binwidth = (xmax-xmin) / Nbins # the scale factor between the histogram and the fit. Takes bin width into account.\n",
    "x_fit = np.linspace(-5, 5, 1000) # Create the x-axis for the plot of the fitted function\n",
    "y_fit = binwidth*gauss_extended(x_fit, fit_N, fit_mu, fit_sigma) # the fitted function"
   ]
  },
  {
   "cell_type": "code",
   "execution_count": 23,
   "metadata": {},
   "outputs": [
    {
     "data": {
      "image/png": "[encoded data removed]",
      "text/plain": [
       "<Figure size 1200x600 with 1 Axes>"
      ]
     },
     "execution_count": 23,
     "metadata": {},
     "output_type": "execute_result"
    }
   ],
   "source": [
    "ax.plot(x_fit, y_fit, '-', color='red', label='Fit with Gaussian to x')\n",
    "ax.set(ylabel=f\"Frequency / {binwidth}\")\n",
    "ax.legend(loc='upper right')          # Here we don't put any \";\", as fig is the last command, which does not give any output.\n",
    "fig"
   ]
  },
  {
   "cell_type": "markdown",
   "metadata": {
    "lines_to_next_cell": 2
   },
   "source": [
    "Note, we refer to the old figure `fig`. Had we done another plot in between, we would not have been able to plot on top of the old figure with the matlab syntax."
   ]
  },
  {
   "cell_type": "markdown",
   "metadata": {
    "lines_to_next_cell": 2
   },
   "source": [
    "Note, had we wanted to plot either of the histograms as errorbars, we would have needed the following:  \n",
    "\n",
    "```\n",
    "y, bin_edges = np.histogram(x_all, bins=Nbins, range=(xmin, xmax), normed=False)\n",
    "x = 0.5*(bin_edges[:-1] + bin_edges[1:])\n",
    "sy = np.sqrt(y)\n",
    "hist1 = ax.errorbar(x, y, sy, fmt='.', label='Gaussian number distribution')\n",
    "```\n"
   ]
  },
  {
   "cell_type": "markdown",
   "metadata": {},
   "source": [
    "## Get statistics"
   ]
  },
  {
   "cell_type": "markdown",
   "metadata": {},
   "source": [
    "In this section we illustrate how to calculate statistical values for the fit. **While it is not normal to work out the Chi2 value for a likelihood fit, we simply do so for illustration**.\n",
    "\n",
    "First we extract the x and y values of the histogram and assume Poisson statistics to calculate the uncertainties:"
   ]
  },
  {
   "cell_type": "code",
   "execution_count": 24,
   "metadata": {
    "lines_to_next_cell": 2
   },
   "outputs": [],
   "source": [
    "entries, bin_edges, _ = hist1\n",
    "bin_centers = 0.5*(bin_edges[:-1] + bin_edges[1:])\n",
    "\n",
    "hist1_x = bin_centers \n",
    "hist1_y = entries\n",
    "hist1_sy = np.sqrt(hist1_y)"
   ]
  },
  {
   "cell_type": "markdown",
   "metadata": {},
   "source": [
    "We then calculate the chi squared value ($\\chi^2$). Remember that $\\chi^2$ is calculated as: \n",
    "\\begin{equation*}\n",
    "\\chi^2 = \\sum_{i}^{N} \\frac{(y_i - f(x_i))^2}{\\sigma_i^2}\n",
    "\\end{equation*}"
   ]
  },
  {
   "cell_type": "code",
   "execution_count": 25,
   "metadata": {
    "lines_to_next_cell": 2
   },
   "outputs": [],
   "source": [
    "# Here we calculate the chi2 value of the fit and the number of non-empty bins\n",
    "chi2_val = 0\n",
    "N_NotEmptyBin = 0\n",
    "\n",
    "for x, y, sy in zip(hist1_x, hist1_y, hist1_sy):\n",
    "    if y > 0:\n",
    "        f = binwidth * gauss_extended(x, fit_N, fit_mu, fit_sigma)   # Calc the model value\n",
    "        chi2_val  += (y - f)**2 / sy**2                              # Calulate the chi2 value\n",
    "        N_NotEmptyBin += 1             # Count the bin as non-empty since y>0 (and thus sy>0)"
   ]
  },
  {
   "cell_type": "markdown",
   "metadata": {},
   "source": [
    "Above we have shown how do calculate $\\chi^2$ in a loop-oriented way for pedagogical reasons. This, however, is usually not the optimal way of utilizing Numpy's true power. It can be computationally optimized by vectorizing the code:"
   ]
  },
  {
   "cell_type": "code",
   "execution_count": 26,
   "metadata": {},
   "outputs": [],
   "source": [
    "f = binwidth * gauss_extended(hist1_x, fit_N, fit_mu, fit_sigma)\n",
    "mask_zeroes = (hist1_y > 0)\n",
    "\n",
    "chi2_val_np = np.sum( (f[mask_zeroes] - hist1_y[mask_zeroes])**2 / hist1_sy[mask_zeroes]**2)\n",
    "N_NotEmptyBin_np = np.sum(mask_zeroes)"
   ]
  },
  {
   "cell_type": "markdown",
   "metadata": {},
   "source": [
    "And we can see that the two results are similar (using `np.allclose` to do a boolean comparison of floats):"
   ]
  },
  {
   "cell_type": "code",
   "execution_count": 27,
   "metadata": {},
   "outputs": [
    {
     "name": "stdout",
     "output_type": "stream",
     "text": [
      "44.00166597671368\n",
      "44.001665976713674\n",
      "True\n",
      "\n",
      "60\n",
      "60\n",
      "True\n"
     ]
    }
   ],
   "source": [
    "print(chi2_val)\n",
    "print(chi2_val_np)\n",
    "print(np.allclose(chi2_val,chi2_val_np)) # np.allclose to do a boolean comparison of floats\n",
    "print(\"\")\n",
    "print(N_NotEmptyBin)\n",
    "print(N_NotEmptyBin_np)\n",
    "print(np.allclose(N_NotEmptyBin, N_NotEmptyBin_np))"
   ]
  },
  {
   "cell_type": "markdown",
   "metadata": {},
   "source": [
    "Below we find the number of degrees of freedom (`N_DOF`), which is the number of data points in the fit (non-empty) minus the number of fitting parameters:"
   ]
  },
  {
   "cell_type": "code",
   "execution_count": 28,
   "metadata": {
    "lines_to_next_cell": 2
   },
   "outputs": [],
   "source": [
    "N_DOF = N_NotEmptyBin - len(minuit.values[:])"
   ]
  },
  {
   "cell_type": "markdown",
   "metadata": {},
   "source": [
    "Given the $\\chi^2$ value and `N_DOF`, we can also calculate the $\\chi^2$ probability `chi2_prob`:"
   ]
  },
  {
   "cell_type": "code",
   "execution_count": 29,
   "metadata": {},
   "outputs": [
    {
     "data": {
      "text/plain": [
       "0.8963194893572538"
      ]
     },
     "execution_count": 29,
     "metadata": {},
     "output_type": "execute_result"
    }
   ],
   "source": [
    "chi2_prob = stats.chi2.sf(chi2_val, N_DOF) # The chi2 probability given N_DOF degrees of freedom\n",
    "chi2_prob"
   ]
  },
  {
   "cell_type": "markdown",
   "metadata": {},
   "source": [
    "This shows us that there is a 80% probability of obtaining a worse fit just by chance. Or, to quote __[Wikipedia](https://en.wikipedia.org/wiki/Chi-squared_distribution)__: *The p-value is the probability of observing a test statistic at least as extreme in a chi-squared distribution*. But we will talk **a lot** more about p-values and the chi-square distribution later on in the course. \n",
    "\n",
    "***\n",
    "\n",
    "Below we also show how to add all of the above information into the figure as well. We define a dictionary `d` which has the information that we want in the plot in it. It has the names of the different elements as keys and the corresponding numbers as values. In case we want to include numbers as uncertainties, we include them as a length-2 list (see `mu` below). Other than that, the function `nice_string_output` takes care of the rest of the formatting (including floats vs. ints). It allows the user to set a custom amount of spacing, `extra_spacing`, between then names and the numbers in the string and the number of decimals to show, `decimals`. \n"
   ]
  },
  {
   "cell_type": "code",
   "execution_count": 30,
   "metadata": {},
   "outputs": [],
   "source": [
    "d = {'Entries':  len(x_all),\n",
    "     'Mean':     x_all.mean(),\n",
    "     'Std':      x_all.std(ddof=1),\n",
    "     # 'N':        [minuit.values['N'], minuit.errors['N']],\n",
    "     'mu':       [minuit.values['mu'], minuit.errors['mu']],\n",
    "     # 'sigma':    [minuit.values['sigma'], minuit.errors['sigma']],\n",
    "     'Chi2':     chi2_val,\n",
    "     'ndf':      N_DOF,\n",
    "     'Prob':     chi2_prob,\n",
    "    }"
   ]
  },
  {
   "cell_type": "code",
   "execution_count": 31,
   "metadata": {},
   "outputs": [
    {
     "data": {
      "text/plain": [
       "10000"
      ]
     },
     "execution_count": 31,
     "metadata": {},
     "output_type": "execute_result"
    }
   ],
   "source": [
    "d['Entries']"
   ]
  },
  {
   "cell_type": "markdown",
   "metadata": {},
   "source": [
    "Above we have commented out the fitted normalisation `N` and width `sigma` for simplicity, but below we'll show you a way to avoid \"manually\" writing all parameters by hand. Now we use `nice_string_output` to define the text and then `add_text_to_ax` to add the text to the plot. `fig.tight_layout()` is used to remove unnecessary spacing around the figure in the end. "
   ]
  },
  {
   "cell_type": "code",
   "execution_count": 32,
   "metadata": {
    "lines_to_next_cell": 2
   },
   "outputs": [
    {
     "ename": "AttributeError",
     "evalue": "module 'numpy' has no attribute 'float'.\n`np.float` was a deprecated alias for the builtin `float`. To avoid this error in existing code, use `float` by itself. Doing this will not modify any behavior and is safe. If you specifically wanted the numpy scalar type, use `np.float64` here.\nThe aliases was originally deprecated in NumPy 1.20; for more details and guidance see the original release note at:\n    https://numpy.org/devdocs/release/1.20.0-notes.html#deprecations",
     "output_type": "error",
     "traceback": [
      "\u001b[0;31m---------------------------------------------------------------------------\u001b[0m",
      "\u001b[0;31mAttributeError\u001b[0m                            Traceback (most recent call last)",
      "Cell \u001b[0;32mIn[32], line 1\u001b[0m\n\u001b[0;32m----> 1\u001b[0m text \u001b[38;5;241m=\u001b[39m nice_string_output(d, extra_spacing\u001b[38;5;241m=\u001b[39m\u001b[38;5;241m2\u001b[39m, decimals\u001b[38;5;241m=\u001b[39m\u001b[38;5;241m3\u001b[39m)\n\u001b[1;32m      2\u001b[0m add_text_to_ax(\u001b[38;5;241m0.02\u001b[39m, \u001b[38;5;241m0.95\u001b[39m, text, ax, fontsize\u001b[38;5;241m=\u001b[39m\u001b[38;5;241m12\u001b[39m)\n\u001b[1;32m      3\u001b[0m fig\u001b[38;5;241m.\u001b[39mtight_layout()\n",
      "File \u001b[0;32m~/Desktop/Physics Bachelor/Applied Statistics/AppStat Repo/Week0/../External_Functions/ExternalFunctions.py:54\u001b[0m, in \u001b[0;36mnice_string_output\u001b[0;34m(d, extra_spacing, decimals)\u001b[0m\n\u001b[1;32m     51\u001b[0m names \u001b[38;5;241m=\u001b[39m d\u001b[38;5;241m.\u001b[39mkeys()\n\u001b[1;32m     52\u001b[0m max_names \u001b[38;5;241m=\u001b[39m len_of_longest_string(names)\n\u001b[0;32m---> 54\u001b[0m values \u001b[38;5;241m=\u001b[39m values_to_string(d\u001b[38;5;241m.\u001b[39mvalues(), decimals\u001b[38;5;241m=\u001b[39mdecimals)\n\u001b[1;32m     55\u001b[0m max_values \u001b[38;5;241m=\u001b[39m len_of_longest_string(values)\n\u001b[1;32m     57\u001b[0m string \u001b[38;5;241m=\u001b[39m \u001b[38;5;124m\"\u001b[39m\u001b[38;5;124m\"\u001b[39m\n",
      "File \u001b[0;32m~/Desktop/Physics Bachelor/Applied Statistics/AppStat Repo/Week0/../External_Functions/ExternalFunctions.py:34\u001b[0m, in \u001b[0;36mvalues_to_string\u001b[0;34m(values, decimals)\u001b[0m\n\u001b[1;32m     32\u001b[0m         res\u001b[38;5;241m.\u001b[39mappend(\u001b[38;5;124mf\u001b[39m\u001b[38;5;124m'\u001b[39m\u001b[38;5;132;01m{\u001b[39;00mtmp[\u001b[38;5;241m0\u001b[39m]\u001b[38;5;132;01m}\u001b[39;00m\u001b[38;5;124m +/- \u001b[39m\u001b[38;5;132;01m{\u001b[39;00mtmp[\u001b[38;5;241m1\u001b[39m]\u001b[38;5;132;01m}\u001b[39;00m\u001b[38;5;124m'\u001b[39m)\n\u001b[1;32m     33\u001b[0m     \u001b[38;5;28;01melse\u001b[39;00m:\n\u001b[0;32m---> 34\u001b[0m         res\u001b[38;5;241m.\u001b[39mappend(format_value(value, decimals))\n\u001b[1;32m     35\u001b[0m \u001b[38;5;28;01mreturn\u001b[39;00m res\n",
      "File \u001b[0;32m~/Desktop/Physics Bachelor/Applied Statistics/AppStat Repo/Week0/../External_Functions/ExternalFunctions.py:14\u001b[0m, in \u001b[0;36mformat_value\u001b[0;34m(value, decimals)\u001b[0m\n\u001b[1;32m      8\u001b[0m \u001b[38;5;28;01mdef\u001b[39;00m \u001b[38;5;21mformat_value\u001b[39m(value, decimals):\n\u001b[1;32m      9\u001b[0m \u001b[38;5;250m    \u001b[39m\u001b[38;5;124;03m\"\"\" \u001b[39;00m\n\u001b[1;32m     10\u001b[0m \u001b[38;5;124;03m    Checks the type of a variable and formats it accordingly.\u001b[39;00m\n\u001b[1;32m     11\u001b[0m \u001b[38;5;124;03m    Floats has 'decimals' number of decimals.\u001b[39;00m\n\u001b[1;32m     12\u001b[0m \u001b[38;5;124;03m    \"\"\"\u001b[39;00m\n\u001b[0;32m---> 14\u001b[0m     \u001b[38;5;28;01mif\u001b[39;00m \u001b[38;5;28misinstance\u001b[39m(value, (\u001b[38;5;28mfloat\u001b[39m, np\u001b[38;5;241m.\u001b[39mfloat)):\n\u001b[1;32m     15\u001b[0m         \u001b[38;5;28;01mreturn\u001b[39;00m \u001b[38;5;124mf\u001b[39m\u001b[38;5;124m'\u001b[39m\u001b[38;5;132;01m{\u001b[39;00mvalue\u001b[38;5;132;01m:\u001b[39;00m\u001b[38;5;124m.\u001b[39m\u001b[38;5;132;01m{\u001b[39;00mdecimals\u001b[38;5;132;01m}\u001b[39;00m\u001b[38;5;124mf\u001b[39m\u001b[38;5;132;01m}\u001b[39;00m\u001b[38;5;124m'\u001b[39m\n\u001b[1;32m     16\u001b[0m     \u001b[38;5;28;01melif\u001b[39;00m \u001b[38;5;28misinstance\u001b[39m(value, (\u001b[38;5;28mint\u001b[39m, np\u001b[38;5;241m.\u001b[39minteger)):\n",
      "File \u001b[0;32m~/anaconda3/lib/python3.11/site-packages/numpy/__init__.py:305\u001b[0m, in \u001b[0;36m__getattr__\u001b[0;34m(attr)\u001b[0m\n\u001b[1;32m    300\u001b[0m     warnings\u001b[38;5;241m.\u001b[39mwarn(\n\u001b[1;32m    301\u001b[0m         \u001b[38;5;124mf\u001b[39m\u001b[38;5;124m\"\u001b[39m\u001b[38;5;124mIn the future `np.\u001b[39m\u001b[38;5;132;01m{\u001b[39;00mattr\u001b[38;5;132;01m}\u001b[39;00m\u001b[38;5;124m` will be defined as the \u001b[39m\u001b[38;5;124m\"\u001b[39m\n\u001b[1;32m    302\u001b[0m         \u001b[38;5;124m\"\u001b[39m\u001b[38;5;124mcorresponding NumPy scalar.\u001b[39m\u001b[38;5;124m\"\u001b[39m, \u001b[38;5;167;01mFutureWarning\u001b[39;00m, stacklevel\u001b[38;5;241m=\u001b[39m\u001b[38;5;241m2\u001b[39m)\n\u001b[1;32m    304\u001b[0m \u001b[38;5;28;01mif\u001b[39;00m attr \u001b[38;5;129;01min\u001b[39;00m __former_attrs__:\n\u001b[0;32m--> 305\u001b[0m     \u001b[38;5;28;01mraise\u001b[39;00m \u001b[38;5;167;01mAttributeError\u001b[39;00m(__former_attrs__[attr])\n\u001b[1;32m    307\u001b[0m \u001b[38;5;66;03m# Importing Tester requires importing all of UnitTest which is not a\u001b[39;00m\n\u001b[1;32m    308\u001b[0m \u001b[38;5;66;03m# cheap import Since it is mainly used in test suits, we lazy import it\u001b[39;00m\n\u001b[1;32m    309\u001b[0m \u001b[38;5;66;03m# here to save on the order of 10 ms of import time for most users\u001b[39;00m\n\u001b[1;32m    310\u001b[0m \u001b[38;5;66;03m#\u001b[39;00m\n\u001b[1;32m    311\u001b[0m \u001b[38;5;66;03m# The previous way Tester was imported also had a side effect of adding\u001b[39;00m\n\u001b[1;32m    312\u001b[0m \u001b[38;5;66;03m# the full `numpy.testing` namespace\u001b[39;00m\n\u001b[1;32m    313\u001b[0m \u001b[38;5;28;01mif\u001b[39;00m attr \u001b[38;5;241m==\u001b[39m \u001b[38;5;124m'\u001b[39m\u001b[38;5;124mtesting\u001b[39m\u001b[38;5;124m'\u001b[39m:\n",
      "\u001b[0;31mAttributeError\u001b[0m: module 'numpy' has no attribute 'float'.\n`np.float` was a deprecated alias for the builtin `float`. To avoid this error in existing code, use `float` by itself. Doing this will not modify any behavior and is safe. If you specifically wanted the numpy scalar type, use `np.float64` here.\nThe aliases was originally deprecated in NumPy 1.20; for more details and guidance see the original release note at:\n    https://numpy.org/devdocs/release/1.20.0-notes.html#deprecations"
     ]
    }
   ],
   "source": [
    "text = nice_string_output(d, extra_spacing=2, decimals=3)\n",
    "add_text_to_ax(0.02, 0.95, text, ax, fontsize=12)\n",
    "fig.tight_layout()\n",
    "# Note, we refer to the old plot \"ax\". Had we done another plot inbetween,\n",
    "# we would not have been able to plot on top of the old figure with the matlab syntax\n",
    "\n",
    "fig"
   ]
  },
  {
   "cell_type": "markdown",
   "metadata": {},
   "source": [
    "We now have a nicely looking plot which we can save for later use, e.g. in a report. We give it a name and specify the resolution with the `dpi` keyword, where 600 is usually a good choice. "
   ]
  },
  {
   "cell_type": "code",
   "execution_count": 33,
   "metadata": {},
   "outputs": [],
   "source": [
    "if save_plots:\n",
    "    fig.savefig('Histogram.pdf', dpi=600)"
   ]
  },
  {
   "cell_type": "markdown",
   "metadata": {},
   "source": [
    "## Graph with fit (1D):\n",
    "\n",
    "In addition to fitting a histogram, we sometimes get measurements of both x and y, e.g. measuring the distance versus time, along with their uncertainties. This part of the exercise shows hwo to fit the data in thus cases.\n",
    "***\n",
    "We first initialize the needed arrays (all of lenght 51):"
   ]
  },
  {
   "cell_type": "code",
   "execution_count": 34,
   "metadata": {},
   "outputs": [],
   "source": [
    "# Define points for a graph with errors:\n",
    "Ndata = 51\n",
    "x  = np.zeros(Ndata) # create empty arrays to store the numbers in\n",
    "y  = np.zeros(Ndata)\n",
    "sx  = np.zeros(Ndata)\n",
    "sy  = np.zeros(Ndata)"
   ]
  },
  {
   "cell_type": "markdown",
   "metadata": {},
   "source": [
    "Having defined four arrays filled with zeros, below we fill it with randomly generated values:"
   ]
  },
  {
   "cell_type": "code",
   "execution_count": 35,
   "metadata": {},
   "outputs": [],
   "source": [
    "sigmay = 0.1                       # We set the uncertainty in y to be 0.1\n",
    "x = np.linspace(-1.25, -1.25+0.05*(Ndata-1), Ndata)\n",
    "y = -2.0 - 2.0*x + 1.0*x*np.sin(x) + 2.0*x**3\n",
    "y[x>0.0] += 0.5                    # Added discontinuity at x=0\n",
    "y += r.normal(0.0, sigmay, Ndata)  # We generate data with this uncertainty\n",
    "sx = np.zeros(Ndata)               # For now we keep the uncertainty in x-direction to 0\n",
    "sy = sigmay*np.ones(Ndata)         # And we assign the correct uncertainty to data (not always easy in reality!)"
   ]
  },
  {
   "cell_type": "markdown",
   "metadata": {},
   "source": [
    "We now plot the data. Notice that we give the plots new names (`fig2`, `ax2`) so we can differentiate between the old (`fig`, `ax`) and the new plots."
   ]
  },
  {
   "cell_type": "code",
   "execution_count": 36,
   "metadata": {},
   "outputs": [
    {
     "data": {
      "image/png": "[encoded data removed]",
      "text/plain": [
       "<Figure size 1200x600 with 1 Axes>"
      ]
     },
     "metadata": {},
     "output_type": "display_data"
    }
   ],
   "source": [
    "fig2, ax2 = plt.subplots(figsize=(12, 6))\n",
    "ax2.errorbar(x, y, xerr=sx, yerr=sy, fmt='.')\n",
    "ax2.set(title=\"Fit of a graph\", \n",
    "        xlabel=\"x\", \n",
    "        ylabel=\"y\",\n",
    "        xlim=(-1.3, 1.3));"
   ]
  },
  {
   "cell_type": "markdown",
   "metadata": {},
   "source": [
    "We now try to fit the function $f(x)=p_0 + p_1 x + p_2 x \\sin x + p_3 x^3$ to the data. First we define the function:"
   ]
  },
  {
   "cell_type": "code",
   "execution_count": 37,
   "metadata": {},
   "outputs": [],
   "source": [
    "def func_simple(x, p0, p1, p2, p3):\n",
    "    return p0 + p1*x + p2*x*np.sin(x) + p3*x*x*x"
   ]
  },
  {
   "cell_type": "markdown",
   "metadata": {},
   "source": [
    "In this case want to do a chi square ($\\chi^2$) fit to the data. We initialize a fit object with the `Chi2Regression` function:"
   ]
  },
  {
   "cell_type": "code",
   "execution_count": 38,
   "metadata": {
    "lines_to_next_cell": 2
   },
   "outputs": [
    {
     "name": "stderr",
     "output_type": "stream",
     "text": [
      "/Users/ludvigwitschel/Desktop/Physics Bachelor/Applied Statistics/AppStat Repo/Week0/../External_Functions/ExternalFunctions.py:113: VisibleDeprecationWarning: make_func_code is deprecated: Use of ``func_code`` attribute to declare parameters is deprecated. Use ``_parameters`` instead, which is a dict of parameter names to limits.\n",
      "  self.func_code = make_func_code(describe(self.f)[1:])\n"
     ]
    }
   ],
   "source": [
    "chi2_object_simple = Chi2Regression(func_simple, x, y, sy)"
   ]
  },
  {
   "cell_type": "markdown",
   "metadata": {},
   "source": [
    "An alternative option is to write the Chi2 function yourself:"
   ]
  },
  {
   "cell_type": "code",
   "execution_count": 39,
   "metadata": {},
   "outputs": [],
   "source": [
    "# Defining Chi2 calculation:\n",
    "def chi2_owncalc(p0, p1, p2, p3) :\n",
    "    y_fit = func_simple(x, p0, p1, p2, p3)\n",
    "    chi2 = np.sum(((y - y_fit) / sy)**2)\n",
    "    return chi2"
   ]
  },
  {
   "cell_type": "markdown",
   "metadata": {},
   "source": [
    "We now tell Minuit that we want to minimize `chi2_object_simple` and provide initial guesses for the parameters:"
   ]
  },
  {
   "cell_type": "code",
   "execution_count": 40,
   "metadata": {},
   "outputs": [
    {
     "data": {
      "text/html": [
       "<table>\n",
       "    <tr>\n",
       "        <th colspan=\"2\" style=\"text-align:center\" title=\"Minimizer\"> Migrad </th>\n",
       "    </tr>\n",
       "    <tr>\n",
       "        <td style=\"text-align:left\" title=\"Minimum value of function\"> FCN = 102.5 </td>\n",
       "        <td style=\"text-align:center\" title=\"Total number of function and (optional) gradient evaluations\"> Nfcn = 77 </td>\n",
       "    </tr>\n",
       "    <tr>\n",
       "        <td style=\"text-align:left\" title=\"Estimated distance to minimum and goal\"> EDM = 1.54e-20 (Goal: 0.0002) </td>\n",
       "        <td style=\"text-align:center\" title=\"Total run time of algorithms\">  </td>\n",
       "    </tr>\n",
       "    <tr>\n",
       "        <td style=\"text-align:center;background-color:#92CCA6;color:black\"> Valid Minimum </td>\n",
       "        <td style=\"text-align:center;background-color:#92CCA6;color:black\"> Below EDM threshold (goal x 10) </td>\n",
       "    </tr>\n",
       "    <tr>\n",
       "        <td style=\"text-align:center;background-color:#92CCA6;color:black\"> No parameters at limit </td>\n",
       "        <td style=\"text-align:center;background-color:#92CCA6;color:black\"> Below call limit </td>\n",
       "    </tr>\n",
       "    <tr>\n",
       "        <td style=\"text-align:center;background-color:#92CCA6;color:black\"> Hesse ok </td>\n",
       "        <td style=\"text-align:center;background-color:#92CCA6;color:black\"> Covariance accurate </td>\n",
       "    </tr>\n",
       "</table><table>\n",
       "    <tr>\n",
       "        <td></td>\n",
       "        <th title=\"Variable name\"> Name </th>\n",
       "        <th title=\"Value of parameter\"> Value </th>\n",
       "        <th title=\"Hesse error\"> Hesse Error </th>\n",
       "        <th title=\"Minos lower error\"> Minos Error- </th>\n",
       "        <th title=\"Minos upper error\"> Minos Error+ </th>\n",
       "        <th title=\"Lower limit of the parameter\"> Limit- </th>\n",
       "        <th title=\"Upper limit of the parameter\"> Limit+ </th>\n",
       "        <th title=\"Is the parameter fixed in the fit\"> Fixed </th>\n",
       "    </tr>\n",
       "    <tr>\n",
       "        <th> 0 </th>\n",
       "        <td> p0 </td>\n",
       "        <td> -1.741 </td>\n",
       "        <td> 0.022 </td>\n",
       "        <td>  </td>\n",
       "        <td>  </td>\n",
       "        <td>  </td>\n",
       "        <td>  </td>\n",
       "        <td>  </td>\n",
       "    </tr>\n",
       "    <tr>\n",
       "        <th> 1 </th>\n",
       "        <td> p1 </td>\n",
       "        <td> -1.44 </td>\n",
       "        <td> 0.05 </td>\n",
       "        <td>  </td>\n",
       "        <td>  </td>\n",
       "        <td>  </td>\n",
       "        <td>  </td>\n",
       "        <td>  </td>\n",
       "    </tr>\n",
       "    <tr>\n",
       "        <th> 2 </th>\n",
       "        <td> p2 </td>\n",
       "        <td> 0.94 </td>\n",
       "        <td> 0.04 </td>\n",
       "        <td>  </td>\n",
       "        <td>  </td>\n",
       "        <td>  </td>\n",
       "        <td>  </td>\n",
       "        <td>  </td>\n",
       "    </tr>\n",
       "    <tr>\n",
       "        <th> 3 </th>\n",
       "        <td> p3 </td>\n",
       "        <td> 1.71 </td>\n",
       "        <td> 0.04 </td>\n",
       "        <td>  </td>\n",
       "        <td>  </td>\n",
       "        <td>  </td>\n",
       "        <td>  </td>\n",
       "        <td>  </td>\n",
       "    </tr>\n",
       "</table><table>\n",
       "    <tr>\n",
       "        <td></td>\n",
       "        <th> p0 </th>\n",
       "        <th> p1 </th>\n",
       "        <th> p2 </th>\n",
       "        <th> p3 </th>\n",
       "    </tr>\n",
       "    <tr>\n",
       "        <th> p0 </th>\n",
       "        <td> 0.000481 </td>\n",
       "        <td style=\"background-color:rgb(250,250,250);color:black\"> -0 </td>\n",
       "        <td style=\"background-color:rgb(150,150,250);color:black\"> -0.6e-3 <strong>(-0.770)</strong> </td>\n",
       "        <td style=\"background-color:rgb(250,250,250);color:black\"> 0 </td>\n",
       "    </tr>\n",
       "    <tr>\n",
       "        <th> p1 </th>\n",
       "        <td style=\"background-color:rgb(250,250,250);color:black\"> -0 </td>\n",
       "        <td> 0.00227 </td>\n",
       "        <td style=\"background-color:rgb(250,250,250);color:black\"> 0.0000 </td>\n",
       "        <td style=\"background-color:rgb(131,131,250);color:black\"> -0.0020 <strong>(-0.917)</strong> </td>\n",
       "    </tr>\n",
       "    <tr>\n",
       "        <th> p2 </th>\n",
       "        <td style=\"background-color:rgb(150,150,250);color:black\"> -0.6e-3 <strong>(-0.770)</strong> </td>\n",
       "        <td style=\"background-color:rgb(250,250,250);color:black\"> 0.0000 </td>\n",
       "        <td> 0.00135 </td>\n",
       "        <td style=\"background-color:rgb(250,250,250);color:black\"> -0.0000 </td>\n",
       "    </tr>\n",
       "    <tr>\n",
       "        <th> p3 </th>\n",
       "        <td style=\"background-color:rgb(250,250,250);color:black\"> 0 </td>\n",
       "        <td style=\"background-color:rgb(131,131,250);color:black\"> -0.0020 <strong>(-0.917)</strong> </td>\n",
       "        <td style=\"background-color:rgb(250,250,250);color:black\"> -0.0000 </td>\n",
       "        <td> 0.00201 </td>\n",
       "    </tr>\n",
       "</table>"
      ],
      "text/plain": [
       "┌─────────────────────────────────────────────────────────────────────────┐\n",
       "│                                Migrad                                   │\n",
       "├──────────────────────────────────┬──────────────────────────────────────┤\n",
       "│ FCN = 102.5                      │              Nfcn = 77               │\n",
       "│ EDM = 1.54e-20 (Goal: 0.0002)    │                                      │\n",
       "├──────────────────────────────────┼──────────────────────────────────────┤\n",
       "│          Valid Minimum           │   Below EDM threshold (goal x 10)    │\n",
       "├──────────────────────────────────┼──────────────────────────────────────┤\n",
       "│      No parameters at limit      │           Below call limit           │\n",
       "├──────────────────────────────────┼──────────────────────────────────────┤\n",
       "│             Hesse ok             │         Covariance accurate          │\n",
       "└──────────────────────────────────┴──────────────────────────────────────┘\n",
       "┌───┬──────┬───────────┬───────────┬────────────┬────────────┬─────────┬─────────┬───────┐\n",
       "│   │ Name │   Value   │ Hesse Err │ Minos Err- │ Minos Err+ │ Limit-  │ Limit+  │ Fixed │\n",
       "├───┼──────┼───────────┼───────────┼────────────┼────────────┼─────────┼─────────┼───────┤\n",
       "│ 0 │ p0   │  -1.741   │   0.022   │            │            │         │         │       │\n",
       "│ 1 │ p1   │   -1.44   │   0.05    │            │            │         │         │       │\n",
       "│ 2 │ p2   │   0.94    │   0.04    │            │            │         │         │       │\n",
       "│ 3 │ p3   │   1.71    │   0.04    │            │            │         │         │       │\n",
       "└───┴──────┴───────────┴───────────┴────────────┴────────────┴─────────┴─────────┴───────┘\n",
       "┌────┬─────────────────────────────────────┐\n",
       "│    │       p0       p1       p2       p3 │\n",
       "├────┼─────────────────────────────────────┤\n",
       "│ p0 │ 0.000481       -0  -0.6e-3        0 │\n",
       "│ p1 │       -0  0.00227   0.0000  -0.0020 │\n",
       "│ p2 │  -0.6e-3   0.0000  0.00135  -0.0000 │\n",
       "│ p3 │        0  -0.0020  -0.0000  0.00201 │\n",
       "└────┴─────────────────────────────────────┘"
      ]
     },
     "execution_count": 40,
     "metadata": {},
     "output_type": "execute_result"
    }
   ],
   "source": [
    "# Using \"external functions\":\n",
    "# minuit_simple = Minuit(chi2_object_simple, p0=0.0, p1=2.0, p2=0.0, p3=2.0)\n",
    "\n",
    "# Using your own Chi2 function:\n",
    "minuit_simple = Minuit(chi2_owncalc, p0=0.0, p1=2.0, p2=0.0, p3=2.0)\n",
    "minuit_simple.errordef = Minuit.LEAST_SQUARES  # == 1\n",
    "\n",
    "minuit_simple.migrad()   # fit"
   ]
  },
  {
   "cell_type": "markdown",
   "metadata": {},
   "source": [
    "We notice, that the covariance matrix (in fact the reduced correlation matrix) has significant entries in it. The p0 and p2 coefficients and the p1 and p3 coefficients are significantly correlated, which can be a source of complications, though it doesn't necessarily have to be. We'll discuss this more.\n",
    "\n",
    "Anyway, it is always a good idea to explicitly check, if the fit converged:"
   ]
  },
  {
   "cell_type": "code",
   "execution_count": 41,
   "metadata": {},
   "outputs": [
    {
     "name": "stdout",
     "output_type": "stream",
     "text": [
      "  The ChiSquare fit converged - congratulations\n"
     ]
    }
   ],
   "source": [
    "if (not minuit_simple.fmin.is_valid) :\n",
    "    print(\"  WARNING: The ChiSquare fit DID NOT converge!!! \")\n",
    "else :\n",
    "    print(\"  The ChiSquare fit converged - congratulations\")"
   ]
  },
  {
   "cell_type": "markdown",
   "metadata": {},
   "source": [
    "As last time we see a lot of green indicating that the fit converged - yay! We see the the minimum value, $\\chi^2$ in this case, is 88.4, and we see the values of the fit parameters along with their uncertainties. We can also print these parameters as we like it:"
   ]
  },
  {
   "cell_type": "code",
   "execution_count": 42,
   "metadata": {},
   "outputs": [
    {
     "name": "stdout",
     "output_type": "stream",
     "text": [
      "Simple fit\n",
      "Fit value: p0 = -1.74120 +/- 0.02193\n",
      "Fit value: p1 = -1.44422 +/- 0.04763\n",
      "Fit value: p2 = 0.94286 +/- 0.03681\n",
      "Fit value: p3 = 1.70535 +/- 0.04481\n"
     ]
    }
   ],
   "source": [
    "p0, p1, p2, p3 = minuit_simple.values[:]\n",
    "print(\"Simple fit\")\n",
    "for name in minuit_simple.parameters:\n",
    "    print(\"Fit value: {0} = {1:.5f} +/- {2:.5f}\".format(name, minuit_simple.values[name], minuit_simple.errors[name]))"
   ]
  },
  {
   "cell_type": "markdown",
   "metadata": {},
   "source": [
    "And plot the fit on the same plot as the data (`ax2`):"
   ]
  },
  {
   "cell_type": "code",
   "execution_count": 43,
   "metadata": {
    "lines_to_next_cell": 2
   },
   "outputs": [
    {
     "data": {
      "image/png": "[encoded data removed]",
      "text/plain": [
       "<Figure size 1200x600 with 1 Axes>"
      ]
     },
     "execution_count": 43,
     "metadata": {},
     "output_type": "execute_result"
    }
   ],
   "source": [
    "x_fit = np.linspace(-1.3, 1.3, 1000)\n",
    "y_fit_simple = func_simple(x_fit, p0, p1, p2, p3)\n",
    "ax2.plot(x_fit, y_fit_simple, '-', label='Simple fit')\n",
    "fig2"
   ]
  },
  {
   "cell_type": "markdown",
   "metadata": {},
   "source": [
    "However, we also know that the data was generated with a discontinuity at $x=0$. To fit that, we first define a function that depends on the value of x (piecewise function 'gaffelfunktion'):"
   ]
  },
  {
   "cell_type": "code",
   "execution_count": 44,
   "metadata": {
    "lines_to_next_cell": 2
   },
   "outputs": [],
   "source": [
    "# Defining external function (which can include \"if\" statements and everything else!):\n",
    "def func_advanced(x, p0, p1, p2, p3, p4) :\n",
    "    if x > 0:\n",
    "        return p0 + p1*x + p2*x*np.sin(x) + p3*x**3 + p4\n",
    "    else:\n",
    "        return p0 + p1*x + p2*x*np.sin(x) + p3*x**3"
   ]
  },
  {
   "cell_type": "markdown",
   "metadata": {},
   "source": [
    "The function above accepts only single values for x, ie. not lists/arrays. This is the format that Minuit expects, so this is the function that we are going to use in the fit.  \n",
    "However, when plotting the data, or simply doing anything other than fitting it with Minuit, we can use Numpy to vectorize the function. Numpy has the function `np.vectorize` which transforms a non-vectorized function to vectorized, such that the output allows x to be a numpy array instead of just a scalar:"
   ]
  },
  {
   "cell_type": "code",
   "execution_count": 45,
   "metadata": {},
   "outputs": [],
   "source": [
    "func_advanced_vec = np.vectorize(func_advanced)"
   ]
  },
  {
   "cell_type": "markdown",
   "metadata": {},
   "source": [
    "We will not need `func_advanced_vec` for the fit though (only the plotting!), so we continue defining the chi2-fit object using `func_advanced`: "
   ]
  },
  {
   "cell_type": "code",
   "execution_count": 46,
   "metadata": {},
   "outputs": [],
   "source": [
    "chi2_object_advanced = Chi2Regression(func_advanced, x, y, sy)\n",
    "chi2_object_advanced.errordef = Minuit.LEAST_SQUARES  # == 1"
   ]
  },
  {
   "cell_type": "markdown",
   "metadata": {},
   "source": [
    "And minimize it:"
   ]
  },
  {
   "cell_type": "code",
   "execution_count": 48,
   "metadata": {
    "lines_to_next_cell": 2
   },
   "outputs": [
    {
     "data": {
      "text/html": [
       "<table>\n",
       "    <tr>\n",
       "        <th colspan=\"2\" style=\"text-align:center\" title=\"Minimizer\"> Migrad </th>\n",
       "    </tr>\n",
       "    <tr>\n",
       "        <td style=\"text-align:left\" title=\"Minimum value of function\"> FCN = 58.97 </td>\n",
       "        <td style=\"text-align:center\" title=\"Total number of function and (optional) gradient evaluations\"> Nfcn = 111 </td>\n",
       "    </tr>\n",
       "    <tr>\n",
       "        <td style=\"text-align:left\" title=\"Estimated distance to minimum and goal\"> EDM = 6.64e-17 (Goal: 0.0002) </td>\n",
       "        <td style=\"text-align:center\" title=\"Total run time of algorithms\">  </td>\n",
       "    </tr>\n",
       "    <tr>\n",
       "        <td style=\"text-align:center;background-color:#92CCA6;color:black\"> Valid Minimum </td>\n",
       "        <td style=\"text-align:center;background-color:#92CCA6;color:black\"> Below EDM threshold (goal x 10) </td>\n",
       "    </tr>\n",
       "    <tr>\n",
       "        <td style=\"text-align:center;background-color:#92CCA6;color:black\"> No parameters at limit </td>\n",
       "        <td style=\"text-align:center;background-color:#92CCA6;color:black\"> Below call limit </td>\n",
       "    </tr>\n",
       "    <tr>\n",
       "        <td style=\"text-align:center;background-color:#92CCA6;color:black\"> Hesse ok </td>\n",
       "        <td style=\"text-align:center;background-color:#92CCA6;color:black\"> Covariance accurate </td>\n",
       "    </tr>\n",
       "</table><table>\n",
       "    <tr>\n",
       "        <td></td>\n",
       "        <th title=\"Variable name\"> Name </th>\n",
       "        <th title=\"Value of parameter\"> Value </th>\n",
       "        <th title=\"Hesse error\"> Hesse Error </th>\n",
       "        <th title=\"Minos lower error\"> Minos Error- </th>\n",
       "        <th title=\"Minos upper error\"> Minos Error+ </th>\n",
       "        <th title=\"Lower limit of the parameter\"> Limit- </th>\n",
       "        <th title=\"Upper limit of the parameter\"> Limit+ </th>\n",
       "        <th title=\"Is the parameter fixed in the fit\"> Fixed </th>\n",
       "    </tr>\n",
       "    <tr>\n",
       "        <th> 0 </th>\n",
       "        <td> p0 </td>\n",
       "        <td> -1.98 </td>\n",
       "        <td> 0.04 </td>\n",
       "        <td>  </td>\n",
       "        <td>  </td>\n",
       "        <td>  </td>\n",
       "        <td>  </td>\n",
       "        <td>  </td>\n",
       "    </tr>\n",
       "    <tr>\n",
       "        <th> 1 </th>\n",
       "        <td> p1 </td>\n",
       "        <td> -1.99 </td>\n",
       "        <td> 0.10 </td>\n",
       "        <td>  </td>\n",
       "        <td>  </td>\n",
       "        <td>  </td>\n",
       "        <td>  </td>\n",
       "        <td>  </td>\n",
       "    </tr>\n",
       "    <tr>\n",
       "        <th> 2 </th>\n",
       "        <td> p2 </td>\n",
       "        <td> 0.93 </td>\n",
       "        <td> 0.04 </td>\n",
       "        <td>  </td>\n",
       "        <td>  </td>\n",
       "        <td>  </td>\n",
       "        <td>  </td>\n",
       "        <td>  </td>\n",
       "    </tr>\n",
       "    <tr>\n",
       "        <th> 3 </th>\n",
       "        <td> p3 </td>\n",
       "        <td> 1.97 </td>\n",
       "        <td> 0.06 </td>\n",
       "        <td>  </td>\n",
       "        <td>  </td>\n",
       "        <td>  </td>\n",
       "        <td>  </td>\n",
       "        <td>  </td>\n",
       "    </tr>\n",
       "    <tr>\n",
       "        <th> 4 </th>\n",
       "        <td> p4 </td>\n",
       "        <td> 0.49 </td>\n",
       "        <td> 0.07 </td>\n",
       "        <td>  </td>\n",
       "        <td>  </td>\n",
       "        <td>  </td>\n",
       "        <td>  </td>\n",
       "        <td>  </td>\n",
       "    </tr>\n",
       "</table><table>\n",
       "    <tr>\n",
       "        <td></td>\n",
       "        <th> p0 </th>\n",
       "        <th> p1 </th>\n",
       "        <th> p2 </th>\n",
       "        <th> p3 </th>\n",
       "        <th> p4 </th>\n",
       "    </tr>\n",
       "    <tr>\n",
       "        <th> p0 </th>\n",
       "        <td> 0.00175 </td>\n",
       "        <td style=\"background-color:rgb(250,139,139);color:black\"> 0.0029 <strong>(0.737)</strong> </td>\n",
       "        <td style=\"background-color:rgb(205,205,250);color:black\"> -0.0005 <strong>(-0.349)</strong> </td>\n",
       "        <td style=\"background-color:rgb(177,177,250);color:black\"> -0.0014 <strong>(-0.563)</strong> </td>\n",
       "        <td style=\"background-color:rgb(139,139,250);color:black\"> -0.0027 <strong>(-0.851)</strong> </td>\n",
       "    </tr>\n",
       "    <tr>\n",
       "        <th> p1 </th>\n",
       "        <td style=\"background-color:rgb(250,139,139);color:black\"> 0.0029 <strong>(0.737)</strong> </td>\n",
       "        <td> 0.00908 </td>\n",
       "        <td style=\"background-color:rgb(250,242,242);color:black\"> 0.0002 <strong>(0.055)</strong> </td>\n",
       "        <td style=\"background-color:rgb(131,131,250);color:black\"> -0.005 <strong>(-0.917)</strong> </td>\n",
       "        <td style=\"background-color:rgb(137,137,250);color:black\"> -0.006 <strong>(-0.866)</strong> </td>\n",
       "    </tr>\n",
       "    <tr>\n",
       "        <th> p2 </th>\n",
       "        <td style=\"background-color:rgb(205,205,250);color:black\"> -0.0005 <strong>(-0.349)</strong> </td>\n",
       "        <td style=\"background-color:rgb(250,242,242);color:black\"> 0.0002 <strong>(0.055)</strong> </td>\n",
       "        <td> 0.00136 </td>\n",
       "        <td style=\"background-color:rgb(245,245,250);color:black\"> -0.0001 <strong>(-0.042)</strong> </td>\n",
       "        <td style=\"background-color:rgb(242,242,250);color:black\"> -0.0002 <strong>(-0.063)</strong> </td>\n",
       "    </tr>\n",
       "    <tr>\n",
       "        <th> p3 </th>\n",
       "        <td style=\"background-color:rgb(177,177,250);color:black\"> -0.0014 <strong>(-0.563)</strong> </td>\n",
       "        <td style=\"background-color:rgb(131,131,250);color:black\"> -0.005 <strong>(-0.917)</strong> </td>\n",
       "        <td style=\"background-color:rgb(245,245,250);color:black\"> -0.0001 <strong>(-0.042)</strong> </td>\n",
       "        <td> 0.00357 </td>\n",
       "        <td style=\"background-color:rgb(250,151,151);color:black\"> 0.003 <strong>(0.662)</strong> </td>\n",
       "    </tr>\n",
       "    <tr>\n",
       "        <th> p4 </th>\n",
       "        <td style=\"background-color:rgb(139,139,250);color:black\"> -0.0027 <strong>(-0.851)</strong> </td>\n",
       "        <td style=\"background-color:rgb(137,137,250);color:black\"> -0.006 <strong>(-0.866)</strong> </td>\n",
       "        <td style=\"background-color:rgb(242,242,250);color:black\"> -0.0002 <strong>(-0.063)</strong> </td>\n",
       "        <td style=\"background-color:rgb(250,151,151);color:black\"> 0.003 <strong>(0.662)</strong> </td>\n",
       "        <td> 0.00559 </td>\n",
       "    </tr>\n",
       "</table>"
      ],
      "text/plain": [
       "┌─────────────────────────────────────────────────────────────────────────┐\n",
       "│                                Migrad                                   │\n",
       "├──────────────────────────────────┬──────────────────────────────────────┤\n",
       "│ FCN = 58.97                      │              Nfcn = 111              │\n",
       "│ EDM = 6.64e-17 (Goal: 0.0002)    │                                      │\n",
       "├──────────────────────────────────┼──────────────────────────────────────┤\n",
       "│          Valid Minimum           │   Below EDM threshold (goal x 10)    │\n",
       "├──────────────────────────────────┼──────────────────────────────────────┤\n",
       "│      No parameters at limit      │           Below call limit           │\n",
       "├──────────────────────────────────┼──────────────────────────────────────┤\n",
       "│             Hesse ok             │         Covariance accurate          │\n",
       "└──────────────────────────────────┴──────────────────────────────────────┘\n",
       "┌───┬──────┬───────────┬───────────┬────────────┬────────────┬─────────┬─────────┬───────┐\n",
       "│   │ Name │   Value   │ Hesse Err │ Minos Err- │ Minos Err+ │ Limit-  │ Limit+  │ Fixed │\n",
       "├───┼──────┼───────────┼───────────┼────────────┼────────────┼─────────┼─────────┼───────┤\n",
       "│ 0 │ p0   │   -1.98   │   0.04    │            │            │         │         │       │\n",
       "│ 1 │ p1   │   -1.99   │   0.10    │            │            │         │         │       │\n",
       "│ 2 │ p2   │   0.93    │   0.04    │            │            │         │         │       │\n",
       "│ 3 │ p3   │   1.97    │   0.06    │            │            │         │         │       │\n",
       "│ 4 │ p4   │   0.49    │   0.07    │            │            │         │         │       │\n",
       "└───┴──────┴───────────┴───────────┴────────────┴────────────┴─────────┴─────────┴───────┘\n",
       "┌────┬─────────────────────────────────────────┐\n",
       "│    │      p0      p1      p2      p3      p4 │\n",
       "├────┼─────────────────────────────────────────┤\n",
       "│ p0 │ 0.00175  0.0029 -0.0005 -0.0014 -0.0027 │\n",
       "│ p1 │  0.0029 0.00908  0.0002  -0.005  -0.006 │\n",
       "│ p2 │ -0.0005  0.0002 0.00136 -0.0001 -0.0002 │\n",
       "│ p3 │ -0.0014  -0.005 -0.0001 0.00357   0.003 │\n",
       "│ p4 │ -0.0027  -0.006 -0.0002   0.003 0.00559 │\n",
       "└────┴─────────────────────────────────────────┘"
      ]
     },
     "execution_count": 48,
     "metadata": {},
     "output_type": "execute_result"
    }
   ],
   "source": [
    "minuit_advanced = Minuit(chi2_object_advanced, p0=0., p1=2.0, p2=0.0, p3=2.0, p4=0.5)\n",
    "minuit_advanced.migrad()    # fit"
   ]
  },
  {
   "cell_type": "markdown",
   "metadata": {},
   "source": [
    "As is typical for a polynomial fit, there are significant correlations. We'll get to how to minimise these.\n",
    "\n",
    "Printing the fitted paramaters and their uncertainties:"
   ]
  },
  {
   "cell_type": "code",
   "execution_count": 50,
   "metadata": {
    "scrolled": true
   },
   "outputs": [
    {
     "name": "stdout",
     "output_type": "stream",
     "text": [
      "Advanced fit\n",
      "Fit value: p0 = -1.97602 +/- 0.04181\n",
      "Fit value: p1 = -1.98853 +/- 0.09527\n",
      "Fit value: p2 = 0.92754 +/- 0.03688\n",
      "Fit value: p3 = 1.96610 +/- 0.05975\n",
      "Fit value: p4 = 0.49336 +/- 0.07479\n"
     ]
    }
   ],
   "source": [
    "p0, p1, p2, p3, p4 = minuit_advanced.values[:]\n",
    "print(\"Advanced fit\")\n",
    "for name in minuit_advanced.parameters:\n",
    "    print(\"Fit value: {0} = {1:.5f} +/- {2:.5f}\".format(name, minuit_advanced.values[name], minuit_advanced.errors[name]))"
   ]
  },
  {
   "cell_type": "markdown",
   "metadata": {},
   "source": [
    "An alternative way of outputting the fit parameters is using the function \"to_table\" and the tabulate module, which yields LaTeX code for a table (though seemingly not perfectly good Latex!)"
   ]
  },
  {
   "cell_type": "code",
   "execution_count": 51,
   "metadata": {},
   "outputs": [
    {
     "data": {
      "text/plain": [
       "\"----------------------------------------------  ----------------------------------------------  ---------------------------------------------  ---------------------------------------------  ---------------------------------------------  ------  ------  ------  -----\\n[0, 'p0', '-1.98', '0.04', '', '', '', '', '']  [1, 'p1', '-1.99', '0.10', '', '', '', '', '']  [2, 'p2', '0.93', '0.04', '', '', '', '', '']  [3, 'p3', '1.97', '0.06', '', '', '', '', '']  [4, 'p4', '0.49', '0.07', '', '', '', '', '']\\npos                                             name                                            value                                          error                                          error-                                         error+  limit-  limit+  fixed\\n----------------------------------------------  ----------------------------------------------  ---------------------------------------------  ---------------------------------------------  ---------------------------------------------  ------  ------  ------  -----\""
      ]
     },
     "execution_count": 51,
     "metadata": {},
     "output_type": "execute_result"
    }
   ],
   "source": [
    "import tabulate as tab\n",
    "tab.tabulate(minuit_advanced.params.to_table())"
   ]
  },
  {
   "cell_type": "markdown",
   "metadata": {},
   "source": [
    "And plotting the fit on the data:"
   ]
  },
  {
   "cell_type": "code",
   "execution_count": 52,
   "metadata": {},
   "outputs": [
    {
     "data": {
      "image/png": "[encoded data removed]",
      "text/plain": [
       "<Figure size 1200x600 with 1 Axes>"
      ]
     },
     "execution_count": 52,
     "metadata": {},
     "output_type": "execute_result"
    }
   ],
   "source": [
    "y_fit_advanced = func_advanced_vec(x_fit, p0, p1, p2, p3, p4 )\n",
    "ax2.plot(x_fit, y_fit_advanced, '-', label='Advanced fit')\n",
    "\n",
    "ax2.legend(loc='upper center')\n",
    "\n",
    "fig2"
   ]
  },
  {
   "cell_type": "markdown",
   "metadata": {},
   "source": [
    "***\n",
    "\n",
    "#### Advanced hint:\n",
    "\n",
    "If you have many parameters and don't want to write out all the names (like `p0`, `p1`, ..., and so on), you can write it the following way (which is called argument unpacking):\n",
    "``` \n",
    "p = minuit.values[:] # save all the fitted parameters as the tuple p \n",
    "y_fit_advanced = func_advanced_vec(x_fit, *p) unpack all of the values in p to the function.\n",
    "``` \n",
    "***\n",
    "\n",
    "We also want to calculate the $\\chi^2$ value of the fit:"
   ]
  },
  {
   "cell_type": "code",
   "execution_count": 53,
   "metadata": {},
   "outputs": [],
   "source": [
    "chi2_val = 0\n",
    "for x_i, y_i, sy_i in zip(x, y, sy):\n",
    "    f = func_advanced( x_i, p0, p1, p2, p3, p4)\n",
    "    chi2_val += (y_i-f)**2 / sy_i**2"
   ]
  },
  {
   "cell_type": "markdown",
   "metadata": {},
   "source": [
    "And below in a optimized Numpy way:"
   ]
  },
  {
   "cell_type": "code",
   "execution_count": 54,
   "metadata": {},
   "outputs": [
    {
     "name": "stdout",
     "output_type": "stream",
     "text": [
      "58.9739569779628\n",
      "58.97395697796278\n",
      "True\n"
     ]
    }
   ],
   "source": [
    "f = func_advanced_vec(x, p0, p1, p2, p3, p4 )\n",
    "chi2_val_np = np.sum((y-f)**2 / sy**2)\n",
    "\n",
    "print(chi2_val)\n",
    "print(chi2_val_np)\n",
    "print(np.allclose(chi2_val, chi2_val_np))"
   ]
  },
  {
   "cell_type": "markdown",
   "metadata": {},
   "source": [
    "Do you recognize the number 54.2 from somewhere else? It is exactly the same number as `FCN` we got when we ran `minuit_advanced.migrad()` above. Therefore, in this case we could also just have gotten the number by: "
   ]
  },
  {
   "cell_type": "code",
   "execution_count": 55,
   "metadata": {},
   "outputs": [
    {
     "name": "stdout",
     "output_type": "stream",
     "text": [
      "58.97395697796278\n"
     ]
    }
   ],
   "source": [
    "chi2_val_fit = minuit_advanced.fval\n",
    "print(chi2_val_fit)"
   ]
  },
  {
   "cell_type": "markdown",
   "metadata": {},
   "source": [
    "We calculate the number of degrees of freedom:"
   ]
  },
  {
   "cell_type": "code",
   "execution_count": 56,
   "metadata": {},
   "outputs": [
    {
     "data": {
      "text/plain": [
       "46"
      ]
     },
     "execution_count": 56,
     "metadata": {},
     "output_type": "execute_result"
    }
   ],
   "source": [
    "N_DOF = Ndata - len(minuit_advanced.values[:])\n",
    "N_DOF"
   ]
  },
  {
   "cell_type": "markdown",
   "metadata": {},
   "source": [
    "Along with the $\\chi^2$ probability:"
   ]
  },
  {
   "cell_type": "code",
   "execution_count": 57,
   "metadata": {},
   "outputs": [
    {
     "data": {
      "text/plain": [
       "0.09491605371878015"
      ]
     },
     "execution_count": 57,
     "metadata": {},
     "output_type": "execute_result"
    }
   ],
   "source": [
    "chi2_prob =  stats.chi2.sf(chi2_val, N_DOF)\n",
    "chi2_prob"
   ]
  },
  {
   "cell_type": "markdown",
   "metadata": {},
   "source": [
    "and add the fit results to the plot:"
   ]
  },
  {
   "cell_type": "code",
   "execution_count": 58,
   "metadata": {},
   "outputs": [],
   "source": [
    "d = {'Entries':  Ndata,\n",
    "     'Chi2':     chi2_val,\n",
    "     'ndf':      N_DOF,\n",
    "     'Prob':     chi2_prob,\n",
    "    }\n",
    "\n",
    "for name in minuit_advanced.parameters:\n",
    "    d[name] = [minuit_advanced.values[name], minuit_advanced.errors[name]]"
   ]
  },
  {
   "cell_type": "code",
   "execution_count": 59,
   "metadata": {
    "lines_to_next_cell": 2
   },
   "outputs": [
    {
     "ename": "AttributeError",
     "evalue": "module 'numpy' has no attribute 'float'.\n`np.float` was a deprecated alias for the builtin `float`. To avoid this error in existing code, use `float` by itself. Doing this will not modify any behavior and is safe. If you specifically wanted the numpy scalar type, use `np.float64` here.\nThe aliases was originally deprecated in NumPy 1.20; for more details and guidance see the original release note at:\n    https://numpy.org/devdocs/release/1.20.0-notes.html#deprecations",
     "output_type": "error",
     "traceback": [
      "\u001b[0;31m---------------------------------------------------------------------------\u001b[0m",
      "\u001b[0;31mAttributeError\u001b[0m                            Traceback (most recent call last)",
      "Cell \u001b[0;32mIn[59], line 1\u001b[0m\n\u001b[0;32m----> 1\u001b[0m text \u001b[38;5;241m=\u001b[39m nice_string_output(d, extra_spacing\u001b[38;5;241m=\u001b[39m\u001b[38;5;241m2\u001b[39m, decimals\u001b[38;5;241m=\u001b[39m\u001b[38;5;241m3\u001b[39m)\n\u001b[1;32m      2\u001b[0m add_text_to_ax(\u001b[38;5;241m0.02\u001b[39m, \u001b[38;5;241m0.95\u001b[39m, text, ax2, fontsize\u001b[38;5;241m=\u001b[39m\u001b[38;5;241m12\u001b[39m)\n\u001b[1;32m      3\u001b[0m fig2\u001b[38;5;241m.\u001b[39mtight_layout()\n",
      "File \u001b[0;32m~/Desktop/Physics Bachelor/Applied Statistics/AppStat Repo/Week0/../External_Functions/ExternalFunctions.py:54\u001b[0m, in \u001b[0;36mnice_string_output\u001b[0;34m(d, extra_spacing, decimals)\u001b[0m\n\u001b[1;32m     51\u001b[0m names \u001b[38;5;241m=\u001b[39m d\u001b[38;5;241m.\u001b[39mkeys()\n\u001b[1;32m     52\u001b[0m max_names \u001b[38;5;241m=\u001b[39m len_of_longest_string(names)\n\u001b[0;32m---> 54\u001b[0m values \u001b[38;5;241m=\u001b[39m values_to_string(d\u001b[38;5;241m.\u001b[39mvalues(), decimals\u001b[38;5;241m=\u001b[39mdecimals)\n\u001b[1;32m     55\u001b[0m max_values \u001b[38;5;241m=\u001b[39m len_of_longest_string(values)\n\u001b[1;32m     57\u001b[0m string \u001b[38;5;241m=\u001b[39m \u001b[38;5;124m\"\u001b[39m\u001b[38;5;124m\"\u001b[39m\n",
      "File \u001b[0;32m~/Desktop/Physics Bachelor/Applied Statistics/AppStat Repo/Week0/../External_Functions/ExternalFunctions.py:34\u001b[0m, in \u001b[0;36mvalues_to_string\u001b[0;34m(values, decimals)\u001b[0m\n\u001b[1;32m     32\u001b[0m         res\u001b[38;5;241m.\u001b[39mappend(\u001b[38;5;124mf\u001b[39m\u001b[38;5;124m'\u001b[39m\u001b[38;5;132;01m{\u001b[39;00mtmp[\u001b[38;5;241m0\u001b[39m]\u001b[38;5;132;01m}\u001b[39;00m\u001b[38;5;124m +/- \u001b[39m\u001b[38;5;132;01m{\u001b[39;00mtmp[\u001b[38;5;241m1\u001b[39m]\u001b[38;5;132;01m}\u001b[39;00m\u001b[38;5;124m'\u001b[39m)\n\u001b[1;32m     33\u001b[0m     \u001b[38;5;28;01melse\u001b[39;00m:\n\u001b[0;32m---> 34\u001b[0m         res\u001b[38;5;241m.\u001b[39mappend(format_value(value, decimals))\n\u001b[1;32m     35\u001b[0m \u001b[38;5;28;01mreturn\u001b[39;00m res\n",
      "File \u001b[0;32m~/Desktop/Physics Bachelor/Applied Statistics/AppStat Repo/Week0/../External_Functions/ExternalFunctions.py:14\u001b[0m, in \u001b[0;36mformat_value\u001b[0;34m(value, decimals)\u001b[0m\n\u001b[1;32m      8\u001b[0m \u001b[38;5;28;01mdef\u001b[39;00m \u001b[38;5;21mformat_value\u001b[39m(value, decimals):\n\u001b[1;32m      9\u001b[0m \u001b[38;5;250m    \u001b[39m\u001b[38;5;124;03m\"\"\" \u001b[39;00m\n\u001b[1;32m     10\u001b[0m \u001b[38;5;124;03m    Checks the type of a variable and formats it accordingly.\u001b[39;00m\n\u001b[1;32m     11\u001b[0m \u001b[38;5;124;03m    Floats has 'decimals' number of decimals.\u001b[39;00m\n\u001b[1;32m     12\u001b[0m \u001b[38;5;124;03m    \"\"\"\u001b[39;00m\n\u001b[0;32m---> 14\u001b[0m     \u001b[38;5;28;01mif\u001b[39;00m \u001b[38;5;28misinstance\u001b[39m(value, (\u001b[38;5;28mfloat\u001b[39m, np\u001b[38;5;241m.\u001b[39mfloat)):\n\u001b[1;32m     15\u001b[0m         \u001b[38;5;28;01mreturn\u001b[39;00m \u001b[38;5;124mf\u001b[39m\u001b[38;5;124m'\u001b[39m\u001b[38;5;132;01m{\u001b[39;00mvalue\u001b[38;5;132;01m:\u001b[39;00m\u001b[38;5;124m.\u001b[39m\u001b[38;5;132;01m{\u001b[39;00mdecimals\u001b[38;5;132;01m}\u001b[39;00m\u001b[38;5;124mf\u001b[39m\u001b[38;5;132;01m}\u001b[39;00m\u001b[38;5;124m'\u001b[39m\n\u001b[1;32m     16\u001b[0m     \u001b[38;5;28;01melif\u001b[39;00m \u001b[38;5;28misinstance\u001b[39m(value, (\u001b[38;5;28mint\u001b[39m, np\u001b[38;5;241m.\u001b[39minteger)):\n",
      "File \u001b[0;32m~/anaconda3/lib/python3.11/site-packages/numpy/__init__.py:305\u001b[0m, in \u001b[0;36m__getattr__\u001b[0;34m(attr)\u001b[0m\n\u001b[1;32m    300\u001b[0m     warnings\u001b[38;5;241m.\u001b[39mwarn(\n\u001b[1;32m    301\u001b[0m         \u001b[38;5;124mf\u001b[39m\u001b[38;5;124m\"\u001b[39m\u001b[38;5;124mIn the future `np.\u001b[39m\u001b[38;5;132;01m{\u001b[39;00mattr\u001b[38;5;132;01m}\u001b[39;00m\u001b[38;5;124m` will be defined as the \u001b[39m\u001b[38;5;124m\"\u001b[39m\n\u001b[1;32m    302\u001b[0m         \u001b[38;5;124m\"\u001b[39m\u001b[38;5;124mcorresponding NumPy scalar.\u001b[39m\u001b[38;5;124m\"\u001b[39m, \u001b[38;5;167;01mFutureWarning\u001b[39;00m, stacklevel\u001b[38;5;241m=\u001b[39m\u001b[38;5;241m2\u001b[39m)\n\u001b[1;32m    304\u001b[0m \u001b[38;5;28;01mif\u001b[39;00m attr \u001b[38;5;129;01min\u001b[39;00m __former_attrs__:\n\u001b[0;32m--> 305\u001b[0m     \u001b[38;5;28;01mraise\u001b[39;00m \u001b[38;5;167;01mAttributeError\u001b[39;00m(__former_attrs__[attr])\n\u001b[1;32m    307\u001b[0m \u001b[38;5;66;03m# Importing Tester requires importing all of UnitTest which is not a\u001b[39;00m\n\u001b[1;32m    308\u001b[0m \u001b[38;5;66;03m# cheap import Since it is mainly used in test suits, we lazy import it\u001b[39;00m\n\u001b[1;32m    309\u001b[0m \u001b[38;5;66;03m# here to save on the order of 10 ms of import time for most users\u001b[39;00m\n\u001b[1;32m    310\u001b[0m \u001b[38;5;66;03m#\u001b[39;00m\n\u001b[1;32m    311\u001b[0m \u001b[38;5;66;03m# The previous way Tester was imported also had a side effect of adding\u001b[39;00m\n\u001b[1;32m    312\u001b[0m \u001b[38;5;66;03m# the full `numpy.testing` namespace\u001b[39;00m\n\u001b[1;32m    313\u001b[0m \u001b[38;5;28;01mif\u001b[39;00m attr \u001b[38;5;241m==\u001b[39m \u001b[38;5;124m'\u001b[39m\u001b[38;5;124mtesting\u001b[39m\u001b[38;5;124m'\u001b[39m:\n",
      "\u001b[0;31mAttributeError\u001b[0m: module 'numpy' has no attribute 'float'.\n`np.float` was a deprecated alias for the builtin `float`. To avoid this error in existing code, use `float` by itself. Doing this will not modify any behavior and is safe. If you specifically wanted the numpy scalar type, use `np.float64` here.\nThe aliases was originally deprecated in NumPy 1.20; for more details and guidance see the original release note at:\n    https://numpy.org/devdocs/release/1.20.0-notes.html#deprecations"
     ]
    }
   ],
   "source": [
    "text = nice_string_output(d, extra_spacing=2, decimals=3)\n",
    "add_text_to_ax(0.02, 0.95, text, ax2, fontsize=12)\n",
    "fig2.tight_layout()\n",
    "fig2"
   ]
  },
  {
   "cell_type": "markdown",
   "metadata": {},
   "source": [
    "and finally save the plot (if save_plots if True):"
   ]
  },
  {
   "cell_type": "code",
   "execution_count": 60,
   "metadata": {
    "lines_to_next_cell": 2
   },
   "outputs": [],
   "source": [
    "if save_plots:\n",
    "    fig2.savefig('Graph.pdf', dpi=600)"
   ]
  },
  {
   "cell_type": "markdown",
   "metadata": {},
   "source": [
    "*** \n",
    "\n",
    "In case you want to export the notebook to a normal python file (.py), you can uncomment the command below (but keep the \"`!`\") and run the cell. This exports the notebook to a Python file."
   ]
  },
  {
   "cell_type": "code",
   "execution_count": 62,
   "metadata": {},
   "outputs": [],
   "source": [
    "#!jupyter nbconvert --to script IntroToPlottingAndFitting_original.ipynb"
   ]
  },
  {
   "cell_type": "markdown",
   "metadata": {},
   "source": [
    "(In the case that you want to convert back from .py to Notebook.ipynb file, run the following command:\n",
    "`jupyter nbconvert --to notebook IntroToPlottingAndFitting.py` in a terminal. In case you want to do it automatically in the Python script, add the line `os.system(\"jupyter nbconvert --to notebook IntroToPlottingAndFitting.py\")`"
   ]
  },
  {
   "cell_type": "code",
   "execution_count": null,
   "metadata": {},
   "outputs": [],
   "source": []
  }
 ],
 "metadata": {
  "executable": "/usr/bin/env python",
  "kernelspec": {
   "display_name": "Python 3 (ipykernel)",
   "language": "python",
   "name": "python3"
  },
  "language_info": {
   "codemirror_mode": {
    "name": "ipython",
    "version": 3
   },
   "file_extension": ".py",
   "mimetype": "text/x-python",
   "name": "python",
   "nbconvert_exporter": "python",
   "pygments_lexer": "ipython3",
   "version": "3.11.5"
  },
  "main_language": "python"
 },
 "nbformat": 4,
 "nbformat_minor": 4
}
