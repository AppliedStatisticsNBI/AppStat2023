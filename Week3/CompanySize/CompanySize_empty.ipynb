{
 "cells": [
  {
   "cell_type": "markdown",
   "metadata": {},
   "source": [
    "# Fitting distribution of workplace size\n",
    "\n",
    "This is an exercise on fitting real, in this case the distribution of company sizes in Denmark (in terms of FTE workers). This distribution was used in relation to Covid-19 modelling, but is in itself interresting.\n",
    "\n",
    "You only need to consider the first two columns (size and frequency), as the rest is just derived from there.\n",
    "\n",
    "NOTE: When extracting data from Statistics Denmark (DK: Danmarks Statistik), bins with less than 5 entries are by law not allowed to be revealed (to protect from ability to single out persons/companies), and are shown as NaN (Not a Number).\n",
    "\n",
    "### References\n",
    "Data from Statistics Denmark (contact: Laust Hvas Mortensen)\n",
    "\n",
    "### Authors\n",
    "Troels C. Petersen (NBI, petersen@nbi.dk)\n",
    "\n",
    "### Date\n",
    "04-12-2023 (latest update)\n",
    "\n",
    "***"
   ]
  },
  {
   "cell_type": "code",
   "execution_count": null,
   "metadata": {},
   "outputs": [],
   "source": [
    "from __future__ import division, print_function\n",
    "\n",
    "import sys\n",
    "import numpy as np\n",
    "import matplotlib.pyplot as plt\n",
    "# import seaborn as sns\n",
    "from iminuit import Minuit\n",
    "from scipy import stats\n",
    "import pandas as pd\n",
    "from scipy import interpolate\n",
    "\n",
    "sys.path.append('../../External_Functions')\n",
    "from ExternalFunctions import UnbinnedLH, Chi2Regression\n",
    "from ExternalFunctions import nice_string_output, add_text_to_ax"
   ]
  },
  {
   "cell_type": "code",
   "execution_count": null,
   "metadata": {},
   "outputs": [],
   "source": [
    "save_plots = False   # For now, don't save plots (once you trust your code, switch on)\n",
    "verbose = True       # For now, print a lot of output (once you trust your code, switch off)\n",
    "Nverbose = 10        # But only print a lot for the first 10 random numbers"
   ]
  },
  {
   "cell_type": "markdown",
   "metadata": {},
   "source": [
    "### Load data"
   ]
  },
  {
   "cell_type": "code",
   "execution_count": null,
   "metadata": {},
   "outputs": [],
   "source": [
    "data_test = pd.read_csv(\"TableData_Denmark2020.txt\", header=0, sep=' ', index_col=0)\n",
    "\n",
    "print(data_test.head(10))\n",
    "print(\"...\")\n",
    "print(data_test.tail(10))\n",
    "\n",
    "# Two 1D arrays:\n",
    "Nworkers = np.arange(1, 200)\n",
    "Ncompanies = data_test[\"Frequency\"].iloc[1:200].values  # \"values\" yields numpy arrays, while nothing gives a Pandas series\n",
    "eNcompanies = np.ones(200)         # NOT CORRECT - what uncertainty to assign here?\n",
    "\n",
    "minPlot = 1\n",
    "maxPlot = 100\n"
   ]
  },
  {
   "cell_type": "markdown",
   "metadata": {},
   "source": [
    "### Plotting the size distribution of companies"
   ]
  },
  {
   "cell_type": "code",
   "execution_count": null,
   "metadata": {},
   "outputs": [],
   "source": [
    "# Number of companies with a given size as a function of size:\n",
    "fig_Ncompanies, ax_Ncompanies = plt.subplots(figsize=(16, 8))\n",
    "ax_Ncompanies.set(xlabel=\"Size of company (in FTE)\", ylabel=\"Number of companies\", title=\"\")\n",
    "ax_Ncompanies.errorbar(Nworkers[minPlot:maxPlot], Ncompanies[minPlot:maxPlot], yerr=eNcompanies[minPlot:maxPlot], fmt='.', linewidth=2,\n",
    "                  label='Data (2020)', color='blue')\n",
    "ax_Ncompanies.legend(fontsize=16) #loc=(0.05, 0.75))\n",
    "\n",
    "plt.yscale('log')\n",
    "plt.tight_layout()\n",
    "plt.show(block=False)\n",
    "\n",
    "if (save_plots):\n",
    "    plt.savefig(\"fig_DistNcompanies.pdf\")"
   ]
  },
  {
   "cell_type": "markdown",
   "metadata": {},
   "source": [
    "## Models\n",
    "\n",
    "What is the best model for this distribution? Try simple models, and make better alternatives afterwards."
   ]
  },
  {
   "cell_type": "markdown",
   "metadata": {},
   "source": [
    "# Questions\n",
    "\n",
    "1. Try to fit the data (in the range 1-100) with a power law, an exponential, and a combination of the two. Are you satisfied with the results? Perhaps include a new plot of the residuals (i.e. data - fit) below the one showing the fit itself.\n",
    "2. Can you think of any other function that would fit throught the data better? Try to expand on the functions by adding more complexity and parameters, and see how well you can do. Do you manage to reach a \"good\" model, and how would you define one such?\n",
    "3. From a \"good\" fit, try to predict how many companies there are with 101-150 employes. Compare this number to the data, and see how well you manage."
   ]
  },
  {
   "cell_type": "markdown",
   "metadata": {},
   "source": [
    "# Learning points:\n",
    "\n",
    "From this exercise you should become capable of fitting data (in histogram) with many different (possibly similar) models, and evaluate their performance. From the last question, you should also become capable of extrapolating to obtain an estimate of the number of larger companies."
   ]
  }
 ],
 "metadata": {
  "kernelspec": {
   "display_name": "Python 3",
   "language": "python",
   "name": "python3"
  },
  "language_info": {
   "codemirror_mode": {
    "name": "ipython",
    "version": 3
   },
   "file_extension": ".py",
   "mimetype": "text/x-python",
   "name": "python",
   "nbconvert_exporter": "python",
   "pygments_lexer": "ipython3",
   "version": "3.7.6"
  }
 },
 "nbformat": 4,
 "nbformat_minor": 4
}
