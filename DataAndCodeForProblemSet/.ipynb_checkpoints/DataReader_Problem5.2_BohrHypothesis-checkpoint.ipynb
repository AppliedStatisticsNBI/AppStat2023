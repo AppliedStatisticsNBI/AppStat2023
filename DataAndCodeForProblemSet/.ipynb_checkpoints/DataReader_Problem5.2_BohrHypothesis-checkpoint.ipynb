{
 "cells": [
  {
   "cell_type": "markdown",
   "metadata": {},
   "source": [
    "### Script for reading data for Problem 5.2 (data_BohrHypothesis.txt) in Applied Statistics 2022 problem set:\n",
    "\n",
    "This script reads the file __\"data_BohrHypothesis.txt\"__ for Problem 5.2 in the problem set of Applied Statistics 2022/23. This data files contains 216545 entries in two columns: \n",
    "\n",
    "* **wavelength** (nm) of radiation,\n",
    "* **voltage** (V) of power supply.\n",
    "\n",
    "\n",
    "####  Author: \n",
    "- Troels Petersen (Niels Bohr Institute, petersen@nbi.dk)\n",
    "\n",
    "####  Date:   \n",
    " - 1st of December 2022"
   ]
  },
  {
   "cell_type": "code",
   "execution_count": 1,
   "metadata": {},
   "outputs": [],
   "source": [
    "import pandas as pd"
   ]
  },
  {
   "cell_type": "code",
   "execution_count": 4,
   "metadata": {},
   "outputs": [
    {
     "data": {
      "text/html": [
       "<div>\n",
       "<style scoped>\n",
       "    .dataframe tbody tr th:only-of-type {\n",
       "        vertical-align: middle;\n",
       "    }\n",
       "\n",
       "    .dataframe tbody tr th {\n",
       "        vertical-align: top;\n",
       "    }\n",
       "\n",
       "    .dataframe thead th {\n",
       "        text-align: right;\n",
       "    }\n",
       "</style>\n",
       "<table border=\"1\" class=\"dataframe\">\n",
       "  <thead>\n",
       "    <tr style=\"text-align: right;\">\n",
       "      <th></th>\n",
       "      <th>0</th>\n",
       "      <th>1</th>\n",
       "    </tr>\n",
       "  </thead>\n",
       "  <tbody>\n",
       "    <tr>\n",
       "      <th>0</th>\n",
       "      <td>2439.703</td>\n",
       "      <td>134.833</td>\n",
       "    </tr>\n",
       "    <tr>\n",
       "      <th>1</th>\n",
       "      <td>1276.206</td>\n",
       "      <td>102.063</td>\n",
       "    </tr>\n",
       "    <tr>\n",
       "      <th>2</th>\n",
       "      <td>1665.593</td>\n",
       "      <td>98.818</td>\n",
       "    </tr>\n",
       "    <tr>\n",
       "      <th>3</th>\n",
       "      <td>1868.467</td>\n",
       "      <td>123.123</td>\n",
       "    </tr>\n",
       "    <tr>\n",
       "      <th>4</th>\n",
       "      <td>2075.338</td>\n",
       "      <td>103.849</td>\n",
       "    </tr>\n",
       "    <tr>\n",
       "      <th>...</th>\n",
       "      <td>...</td>\n",
       "      <td>...</td>\n",
       "    </tr>\n",
       "    <tr>\n",
       "      <th>216540</th>\n",
       "      <td>1761.204</td>\n",
       "      <td>137.935</td>\n",
       "    </tr>\n",
       "    <tr>\n",
       "      <th>216541</th>\n",
       "      <td>1748.524</td>\n",
       "      <td>153.508</td>\n",
       "    </tr>\n",
       "    <tr>\n",
       "      <th>216542</th>\n",
       "      <td>1555.461</td>\n",
       "      <td>76.994</td>\n",
       "    </tr>\n",
       "    <tr>\n",
       "      <th>216543</th>\n",
       "      <td>1367.070</td>\n",
       "      <td>87.436</td>\n",
       "    </tr>\n",
       "    <tr>\n",
       "      <th>216544</th>\n",
       "      <td>1793.135</td>\n",
       "      <td>94.689</td>\n",
       "    </tr>\n",
       "  </tbody>\n",
       "</table>\n",
       "<p>216545 rows × 2 columns</p>\n",
       "</div>"
      ],
      "text/plain": [
       "               0        1\n",
       "0       2439.703  134.833\n",
       "1       1276.206  102.063\n",
       "2       1665.593   98.818\n",
       "3       1868.467  123.123\n",
       "4       2075.338  103.849\n",
       "...          ...      ...\n",
       "216540  1761.204  137.935\n",
       "216541  1748.524  153.508\n",
       "216542  1555.461   76.994\n",
       "216543  1367.070   87.436\n",
       "216544  1793.135   94.689\n",
       "\n",
       "[216545 rows x 2 columns]"
      ]
     },
     "execution_count": 4,
     "metadata": {},
     "output_type": "execute_result"
    }
   ],
   "source": [
    "dataframe = pd.read_csv('data_BohrHypothesis.csv', header=None, index_col=None)\n",
    "wavel, voltage = dataframe.values.T\n",
    "dataframe"
   ]
  },
  {
   "cell_type": "markdown",
   "metadata": {},
   "source": [
    "Print the first 10 entries to check the content of the file:"
   ]
  },
  {
   "cell_type": "code",
   "execution_count": 3,
   "metadata": {},
   "outputs": [
    {
     "name": "stdout",
     "output_type": "stream",
     "text": [
      "  wavelength = 1276.21 nm    voltage = 102.06 V\n",
      "  wavelength = 1665.59 nm    voltage =  98.82 V\n",
      "  wavelength = 1868.47 nm    voltage = 123.12 V\n",
      "  wavelength = 2075.34 nm    voltage = 103.85 V\n",
      "  wavelength = 1962.51 nm    voltage =  96.54 V\n",
      "  wavelength = 1563.69 nm    voltage =  91.83 V\n",
      "  wavelength = 1395.86 nm    voltage = 107.95 V\n",
      "  wavelength = 2112.96 nm    voltage =  74.54 V\n",
      "  wavelength = 1434.76 nm    voltage = 129.24 V\n",
      "  wavelength = 1985.00 nm    voltage = 149.94 V\n"
     ]
    }
   ],
   "source": [
    "for i in range(10):\n",
    "    print(f\"  wavelength = {wavel[i]:4.2f} nm    voltage = {voltage[i]:6.2f} V\")"
   ]
  }
 ],
 "metadata": {
  "executable": "/usr/bin/env python",
  "kernelspec": {
   "display_name": "Python 3",
   "language": "python",
   "name": "python3"
  },
  "language_info": {
   "codemirror_mode": {
    "name": "ipython",
    "version": 3
   },
   "file_extension": ".py",
   "mimetype": "text/x-python",
   "name": "python",
   "nbconvert_exporter": "python",
   "pygments_lexer": "ipython3",
   "version": "3.7.6"
  },
  "main_language": "python"
 },
 "nbformat": 4,
 "nbformat_minor": 2
}
