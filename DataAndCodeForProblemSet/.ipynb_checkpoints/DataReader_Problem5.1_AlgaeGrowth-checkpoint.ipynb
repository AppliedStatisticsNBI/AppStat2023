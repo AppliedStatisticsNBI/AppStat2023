{
 "cells": [
  {
   "cell_type": "markdown",
   "metadata": {},
   "source": [
    "### Script for reading data for Problem 5.1 (data_AlgaeGrowth.txt) in Applied Statistics 2022 problem set:\n",
    "\n",
    "This script reads the file __\"data_AlgaeGrowth.txt\"__ for Problem 5.1 in the problem set of Applied Statistics 2022/23. This data files contains 90 entries in three columns: \n",
    "* **time** (hours) of measurement,\n",
    "* **area** ($\\mathrm{cm}^2$) of the algae coverage,\n",
    "* **area uncertainty** ($\\mathrm{cm}^2$).\n",
    "\n",
    "\n",
    "####  Author: \n",
    "- Troels Petersen (Niels Bohr Institute, petersen@nbi.dk)\n",
    "\n",
    "####  Date:   \n",
    " - 1st of December 2022"
   ]
  },
  {
   "cell_type": "code",
   "execution_count": 1,
   "metadata": {},
   "outputs": [],
   "source": [
    "import pandas as pd"
   ]
  },
  {
   "cell_type": "code",
   "execution_count": 2,
   "metadata": {},
   "outputs": [
    {
     "data": {
      "text/html": [
       "<div>\n",
       "<style scoped>\n",
       "    .dataframe tbody tr th:only-of-type {\n",
       "        vertical-align: middle;\n",
       "    }\n",
       "\n",
       "    .dataframe tbody tr th {\n",
       "        vertical-align: top;\n",
       "    }\n",
       "\n",
       "    .dataframe thead th {\n",
       "        text-align: right;\n",
       "    }\n",
       "</style>\n",
       "<table border=\"1\" class=\"dataframe\">\n",
       "  <thead>\n",
       "    <tr style=\"text-align: right;\">\n",
       "      <th></th>\n",
       "      <th>0</th>\n",
       "      <th>1</th>\n",
       "      <th>2</th>\n",
       "    </tr>\n",
       "  </thead>\n",
       "  <tbody>\n",
       "    <tr>\n",
       "      <th>0</th>\n",
       "      <td>0.35</td>\n",
       "      <td>1470.40</td>\n",
       "      <td>45.0</td>\n",
       "    </tr>\n",
       "    <tr>\n",
       "      <th>1</th>\n",
       "      <td>0.57</td>\n",
       "      <td>1426.93</td>\n",
       "      <td>45.0</td>\n",
       "    </tr>\n",
       "    <tr>\n",
       "      <th>2</th>\n",
       "      <td>0.60</td>\n",
       "      <td>1466.84</td>\n",
       "      <td>45.0</td>\n",
       "    </tr>\n",
       "    <tr>\n",
       "      <th>3</th>\n",
       "      <td>0.90</td>\n",
       "      <td>1580.44</td>\n",
       "      <td>45.0</td>\n",
       "    </tr>\n",
       "    <tr>\n",
       "      <th>4</th>\n",
       "      <td>1.08</td>\n",
       "      <td>1626.27</td>\n",
       "      <td>45.0</td>\n",
       "    </tr>\n",
       "    <tr>\n",
       "      <th>...</th>\n",
       "      <td>...</td>\n",
       "      <td>...</td>\n",
       "      <td>...</td>\n",
       "    </tr>\n",
       "    <tr>\n",
       "      <th>85</th>\n",
       "      <td>11.71</td>\n",
       "      <td>1974.83</td>\n",
       "      <td>45.0</td>\n",
       "    </tr>\n",
       "    <tr>\n",
       "      <th>86</th>\n",
       "      <td>11.85</td>\n",
       "      <td>2044.98</td>\n",
       "      <td>45.0</td>\n",
       "    </tr>\n",
       "    <tr>\n",
       "      <th>87</th>\n",
       "      <td>11.93</td>\n",
       "      <td>2059.38</td>\n",
       "      <td>45.0</td>\n",
       "    </tr>\n",
       "    <tr>\n",
       "      <th>88</th>\n",
       "      <td>12.26</td>\n",
       "      <td>2014.04</td>\n",
       "      <td>45.0</td>\n",
       "    </tr>\n",
       "    <tr>\n",
       "      <th>89</th>\n",
       "      <td>12.99</td>\n",
       "      <td>2087.49</td>\n",
       "      <td>45.0</td>\n",
       "    </tr>\n",
       "  </tbody>\n",
       "</table>\n",
       "<p>90 rows × 3 columns</p>\n",
       "</div>"
      ],
      "text/plain": [
       "        0        1     2\n",
       "0    0.35  1470.40  45.0\n",
       "1    0.57  1426.93  45.0\n",
       "2    0.60  1466.84  45.0\n",
       "3    0.90  1580.44  45.0\n",
       "4    1.08  1626.27  45.0\n",
       "..    ...      ...   ...\n",
       "85  11.71  1974.83  45.0\n",
       "86  11.85  2044.98  45.0\n",
       "87  11.93  2059.38  45.0\n",
       "88  12.26  2014.04  45.0\n",
       "89  12.99  2087.49  45.0\n",
       "\n",
       "[90 rows x 3 columns]"
      ]
     },
     "execution_count": 2,
     "metadata": {},
     "output_type": "execute_result"
    }
   ],
   "source": [
    "dataframe = pd.read_csv('data_AlgaeGrowth.csv', header=None, index_col=None)\n",
    "time, area, err_area = dataframe.values.T\n",
    "dataframe"
   ]
  },
  {
   "cell_type": "markdown",
   "metadata": {},
   "source": [
    "Print the first 10 entries to check the content of the file:"
   ]
  },
  {
   "cell_type": "code",
   "execution_count": 3,
   "metadata": {},
   "outputs": [
    {
     "name": "stdout",
     "output_type": "stream",
     "text": [
      "  time = 0.35 hrs    area = 1470.40 cm2    err_area = 45.00 cm2\n",
      "  time = 0.57 hrs    area = 1426.93 cm2    err_area = 45.00 cm2\n",
      "  time = 0.60 hrs    area = 1466.84 cm2    err_area = 45.00 cm2\n",
      "  time = 0.90 hrs    area = 1580.44 cm2    err_area = 45.00 cm2\n",
      "  time = 1.08 hrs    area = 1626.27 cm2    err_area = 45.00 cm2\n",
      "  time = 1.30 hrs    area = 1624.67 cm2    err_area = 45.00 cm2\n",
      "  time = 1.51 hrs    area = 1559.46 cm2    err_area = 45.00 cm2\n",
      "  time = 1.64 hrs    area = 1577.22 cm2    err_area = 45.00 cm2\n",
      "  time = 1.86 hrs    area = 1626.99 cm2    err_area = 45.00 cm2\n",
      "  time = 2.03 hrs    area = 1710.10 cm2    err_area = 45.00 cm2\n"
     ]
    }
   ],
   "source": [
    "for i in range(10):\n",
    "    print(f\"  time = {time[i]:4.2f} hrs    area = {area[i]:6.2f} cm2    err_area = {err_area[i]:5.2f} cm2\")"
   ]
  }
 ],
 "metadata": {
  "executable": "/usr/bin/env python",
  "kernelspec": {
   "display_name": "Python 3",
   "language": "python",
   "name": "python3"
  },
  "language_info": {
   "codemirror_mode": {
    "name": "ipython",
    "version": 3
   },
   "file_extension": ".py",
   "mimetype": "text/x-python",
   "name": "python",
   "nbconvert_exporter": "python",
   "pygments_lexer": "ipython3",
   "version": "3.7.6"
  },
  "main_language": "python"
 },
 "nbformat": 4,
 "nbformat_minor": 2
}
