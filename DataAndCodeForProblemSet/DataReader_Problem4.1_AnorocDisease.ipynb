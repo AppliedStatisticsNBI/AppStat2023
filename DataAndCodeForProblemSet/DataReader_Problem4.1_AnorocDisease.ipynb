{
 "cells": [
  {
   "cell_type": "markdown",
   "metadata": {},
   "source": [
    "### Script for reading data for Problem 4.1 (data_AnorocDisease.txt) in Applied Statistics 2023 problem set:\n",
    "\n",
    "This script reads the file __\"data_AnorocDisease.txt\"__ for Problem 4.1 in the problem set of Applied Statistics 2023/24. This data files contains 1000 entries in five columns: \n",
    "\n",
    "* **Patient ID** of patient (1-1000),\n",
    "* **Temperature** of patient (in Celcius),\n",
    "* **Blood Pressure** of patient,\n",
    "* **Age** of patient,\n",
    "* **Status** of patient (0: Healthy, 1: Ill, -1: Unknown).\n",
    "\n",
    "\n",
    "####  Author: \n",
    "- Troels Petersen (Niels Bohr Institute, petersen@nbi.dk)\n",
    "\n",
    "####  Date:   \n",
    " - 14th of October 2023 (latest version)"
   ]
  },
  {
   "cell_type": "code",
   "execution_count": null,
   "metadata": {},
   "outputs": [],
   "source": [
    "import pandas as pd"
   ]
  },
  {
   "cell_type": "code",
   "execution_count": null,
   "metadata": {},
   "outputs": [],
   "source": [
    "dataframe = pd.read_csv('data_AnorocDisease.csv', header=0)\n",
    "PatientID, Temp, BloodP, Age, Status = dataframe.values.T\n",
    "dataframe"
   ]
  },
  {
   "cell_type": "markdown",
   "metadata": {},
   "source": [
    "Print the first 10 entries to check the content of the file:"
   ]
  },
  {
   "cell_type": "code",
   "execution_count": null,
   "metadata": {},
   "outputs": [],
   "source": [
    "for i in range(10):\n",
    "    print(f\"  Patient {int(PatientID[i]):4d}:  Temp = {Temp[i]:4.1f} C    Blood Pres = {BloodP[i]:5.1f}   Age = {Age[i]:5.1f}   Status: {int(Status[i]):2d}\")"
   ]
  }
 ],
 "metadata": {
  "executable": "/usr/bin/env python",
  "kernelspec": {
   "display_name": "Python 3",
   "language": "python",
   "name": "python3"
  },
  "language_info": {
   "codemirror_mode": {
    "name": "ipython",
    "version": 3
   },
   "file_extension": ".py",
   "mimetype": "text/x-python",
   "name": "python",
   "nbconvert_exporter": "python",
   "pygments_lexer": "ipython3",
   "version": "3.7.6"
  },
  "main_language": "python"
 },
 "nbformat": 4,
 "nbformat_minor": 2
}
